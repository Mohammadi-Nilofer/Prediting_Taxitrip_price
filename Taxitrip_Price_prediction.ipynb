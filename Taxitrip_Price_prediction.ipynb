{
  "nbformat": 4,
  "nbformat_minor": 0,
  "metadata": {
    "colab": {
      "provenance": [],
      "authorship_tag": "ABX9TyN8TtqwpTJsPRhHCobvbhTD",
      "include_colab_link": true
    },
    "kernelspec": {
      "name": "python3",
      "display_name": "Python 3"
    },
    "language_info": {
      "name": "python"
    }
  },
  "cells": [
    {
      "cell_type": "markdown",
      "metadata": {
        "id": "view-in-github",
        "colab_type": "text"
      },
      "source": [
        "<a href=\"https://colab.research.google.com/github/Mohammadi-Nilofer/Prediting_Taxitrip_price/blob/main/Taxitrip_Price_prediction.ipynb\" target=\"_parent\"><img src=\"https://colab.research.google.com/assets/colab-badge.svg\" alt=\"Open In Colab\"/></a>"
      ]
    },
    {
      "cell_type": "markdown",
      "source": [
        "#**Title :** **Predicting Taxi Price using ANN Regressor** 🚕"
      ],
      "metadata": {
        "id": "25w5ltIG0aW4"
      }
    },
    {
      "cell_type": "markdown",
      "source": [
        ":#Context\n",
        "\n",
        "This dataset is designed to predict taxi trip fares based on various factors such as distance, time of day, traffic conditions, and more. It provides realistic synthetic data for regression tasks, offering a unique opportunity to explore pricing trends in the taxi industry."
      ],
      "metadata": {
        "id": "UwpNG_8f1kpB"
      }
    },
    {
      "cell_type": "markdown",
      "metadata": {
        "id": "9fed6779"
      },
      "source": [
        "# Problem Statement\n",
        "\n",
        "The taxi industry faces challenges in accurately predicting trip fares due to various influencing factors such as distance, time of day, and traffic conditions. This can lead to inconsistent pricing for customers and suboptimal revenue management for taxi companies. There is a need for a robust and accurate model to predict taxi fares based on these factors."
      ]
    },
    {
      "cell_type": "markdown",
      "metadata": {
        "id": "e1daa810"
      },
      "source": [
        "# Objective\n",
        "\n",
        "The objective of this project is to build and optimize an Artificial Neural Network (ANN) Regressor model to accurately predict taxi trip fares. This will involve exploring various ANN architectures, hyperparameter tuning, and evaluating the model's performance to identify the optimal model for predicting taxi prices based on the provided dataset."
      ]
    },
    {
      "cell_type": "markdown",
      "source": [
        "#Data Dictionary\n",
        "\n",
        "* Distance (in kilometers): The length of the trip.\n",
        "* Pickup Time: The starting time of the trip.\n",
        "* Dropoff Time: The ending time of the trip.\n",
        "* Traffic Condition: Categorical indicator of traffic (light, medium, heavy).\n",
        "* Passenger Count: Number of passengers for the trip.\n",
        "* Weather Condition: Categorical data for weather (clear, rain, snow).\n",
        "* Trip Duration (in minutes): Total trip time.\n",
        "* Fare Amount (target): The cost of the trip (in USD).\n",
        "\n",
        "#Dataset link\n",
        "\n",
        " https://www.kaggle.com/datasets/denkuznetz/taxi-price-prediction"
      ],
      "metadata": {
        "id": "-fpYvKLD0aQV"
      }
    },
    {
      "cell_type": "markdown",
      "source": [
        "#Import Libraries"
      ],
      "metadata": {
        "id": "X4e9hWzq2OqK"
      }
    },
    {
      "cell_type": "code",
      "execution_count": null,
      "metadata": {
        "id": "acZCkhjq0VwL"
      },
      "outputs": [],
      "source": [
        "#Importing necessary libraries\n",
        "\n",
        "import numpy as np\n",
        "import pandas as pd\n",
        "import matplotlib.pyplot as plt\n",
        "import seaborn as sns\n",
        "import tensorflow as tf\n",
        "from tensorflow.keras import Sequential\n",
        "from tensorflow.keras.layers import Dense\n",
        "from tensorflow.keras.callbacks import EarlyStopping, ReduceLROnPlateau\n",
        "from sklearn.model_selection import train_test_split\n",
        "from sklearn.preprocessing import StandardScaler, OneHotEncoder\n",
        "from sklearn.compose import ColumnTransformer\n",
        "from sklearn import metrics\n",
        "import warnings\n",
        "warnings.filterwarnings('ignore')"
      ]
    },
    {
      "cell_type": "markdown",
      "source": [
        "#Load the dataset"
      ],
      "metadata": {
        "id": "oUvEtikP2g0X"
      }
    },
    {
      "cell_type": "code",
      "source": [
        "#importing the dataset\n",
        "df = pd.read_csv('/content/taxi_trip_pricing.csv')\n"
      ],
      "metadata": {
        "id": "7mkUSazA2fVI"
      },
      "execution_count": null,
      "outputs": []
    },
    {
      "cell_type": "code",
      "source": [
        "df.head()"
      ],
      "metadata": {
        "colab": {
          "base_uri": "https://localhost:8080/",
          "height": 226
        },
        "id": "xOBEEWkS2xti",
        "outputId": "6c2a3e34-7700-4ca5-a465-58a27ab851b6"
      },
      "execution_count": null,
      "outputs": [
        {
          "output_type": "execute_result",
          "data": {
            "text/plain": [
              "   Trip_Distance_km Time_of_Day Day_of_Week  Passenger_Count  \\\n",
              "0             19.35     Morning     Weekday              3.0   \n",
              "1             47.59   Afternoon     Weekday              1.0   \n",
              "2             36.87     Evening     Weekend              1.0   \n",
              "3             30.33     Evening     Weekday              4.0   \n",
              "4               NaN     Evening     Weekday              3.0   \n",
              "\n",
              "  Traffic_Conditions Weather  Base_Fare  Per_Km_Rate  Per_Minute_Rate  \\\n",
              "0                Low   Clear       3.56         0.80             0.32   \n",
              "1               High   Clear        NaN         0.62             0.43   \n",
              "2               High   Clear       2.70         1.21             0.15   \n",
              "3                Low     NaN       3.48         0.51             0.15   \n",
              "4               High   Clear       2.93         0.63             0.32   \n",
              "\n",
              "   Trip_Duration_Minutes  Trip_Price  \n",
              "0                  53.82     36.2624  \n",
              "1                  40.57         NaN  \n",
              "2                  37.27     52.9032  \n",
              "3                 116.81     36.4698  \n",
              "4                  22.64     15.6180  "
            ],
            "text/html": [
              "\n",
              "  <div id=\"df-12a0a3b1-f8ed-4fb0-bad5-edfb100f95c7\" class=\"colab-df-container\">\n",
              "    <div>\n",
              "<style scoped>\n",
              "    .dataframe tbody tr th:only-of-type {\n",
              "        vertical-align: middle;\n",
              "    }\n",
              "\n",
              "    .dataframe tbody tr th {\n",
              "        vertical-align: top;\n",
              "    }\n",
              "\n",
              "    .dataframe thead th {\n",
              "        text-align: right;\n",
              "    }\n",
              "</style>\n",
              "<table border=\"1\" class=\"dataframe\">\n",
              "  <thead>\n",
              "    <tr style=\"text-align: right;\">\n",
              "      <th></th>\n",
              "      <th>Trip_Distance_km</th>\n",
              "      <th>Time_of_Day</th>\n",
              "      <th>Day_of_Week</th>\n",
              "      <th>Passenger_Count</th>\n",
              "      <th>Traffic_Conditions</th>\n",
              "      <th>Weather</th>\n",
              "      <th>Base_Fare</th>\n",
              "      <th>Per_Km_Rate</th>\n",
              "      <th>Per_Minute_Rate</th>\n",
              "      <th>Trip_Duration_Minutes</th>\n",
              "      <th>Trip_Price</th>\n",
              "    </tr>\n",
              "  </thead>\n",
              "  <tbody>\n",
              "    <tr>\n",
              "      <th>0</th>\n",
              "      <td>19.35</td>\n",
              "      <td>Morning</td>\n",
              "      <td>Weekday</td>\n",
              "      <td>3.0</td>\n",
              "      <td>Low</td>\n",
              "      <td>Clear</td>\n",
              "      <td>3.56</td>\n",
              "      <td>0.80</td>\n",
              "      <td>0.32</td>\n",
              "      <td>53.82</td>\n",
              "      <td>36.2624</td>\n",
              "    </tr>\n",
              "    <tr>\n",
              "      <th>1</th>\n",
              "      <td>47.59</td>\n",
              "      <td>Afternoon</td>\n",
              "      <td>Weekday</td>\n",
              "      <td>1.0</td>\n",
              "      <td>High</td>\n",
              "      <td>Clear</td>\n",
              "      <td>NaN</td>\n",
              "      <td>0.62</td>\n",
              "      <td>0.43</td>\n",
              "      <td>40.57</td>\n",
              "      <td>NaN</td>\n",
              "    </tr>\n",
              "    <tr>\n",
              "      <th>2</th>\n",
              "      <td>36.87</td>\n",
              "      <td>Evening</td>\n",
              "      <td>Weekend</td>\n",
              "      <td>1.0</td>\n",
              "      <td>High</td>\n",
              "      <td>Clear</td>\n",
              "      <td>2.70</td>\n",
              "      <td>1.21</td>\n",
              "      <td>0.15</td>\n",
              "      <td>37.27</td>\n",
              "      <td>52.9032</td>\n",
              "    </tr>\n",
              "    <tr>\n",
              "      <th>3</th>\n",
              "      <td>30.33</td>\n",
              "      <td>Evening</td>\n",
              "      <td>Weekday</td>\n",
              "      <td>4.0</td>\n",
              "      <td>Low</td>\n",
              "      <td>NaN</td>\n",
              "      <td>3.48</td>\n",
              "      <td>0.51</td>\n",
              "      <td>0.15</td>\n",
              "      <td>116.81</td>\n",
              "      <td>36.4698</td>\n",
              "    </tr>\n",
              "    <tr>\n",
              "      <th>4</th>\n",
              "      <td>NaN</td>\n",
              "      <td>Evening</td>\n",
              "      <td>Weekday</td>\n",
              "      <td>3.0</td>\n",
              "      <td>High</td>\n",
              "      <td>Clear</td>\n",
              "      <td>2.93</td>\n",
              "      <td>0.63</td>\n",
              "      <td>0.32</td>\n",
              "      <td>22.64</td>\n",
              "      <td>15.6180</td>\n",
              "    </tr>\n",
              "  </tbody>\n",
              "</table>\n",
              "</div>\n",
              "    <div class=\"colab-df-buttons\">\n",
              "\n",
              "  <div class=\"colab-df-container\">\n",
              "    <button class=\"colab-df-convert\" onclick=\"convertToInteractive('df-12a0a3b1-f8ed-4fb0-bad5-edfb100f95c7')\"\n",
              "            title=\"Convert this dataframe to an interactive table.\"\n",
              "            style=\"display:none;\">\n",
              "\n",
              "  <svg xmlns=\"http://www.w3.org/2000/svg\" height=\"24px\" viewBox=\"0 -960 960 960\">\n",
              "    <path d=\"M120-120v-720h720v720H120Zm60-500h600v-160H180v160Zm220 220h160v-160H400v160Zm0 220h160v-160H400v160ZM180-400h160v-160H180v160Zm440 0h160v-160H620v160ZM180-180h160v-160H180v160Zm440 0h160v-160H620v160Z\"/>\n",
              "  </svg>\n",
              "    </button>\n",
              "\n",
              "  <style>\n",
              "    .colab-df-container {\n",
              "      display:flex;\n",
              "      gap: 12px;\n",
              "    }\n",
              "\n",
              "    .colab-df-convert {\n",
              "      background-color: #E8F0FE;\n",
              "      border: none;\n",
              "      border-radius: 50%;\n",
              "      cursor: pointer;\n",
              "      display: none;\n",
              "      fill: #1967D2;\n",
              "      height: 32px;\n",
              "      padding: 0 0 0 0;\n",
              "      width: 32px;\n",
              "    }\n",
              "\n",
              "    .colab-df-convert:hover {\n",
              "      background-color: #E2EBFA;\n",
              "      box-shadow: 0px 1px 2px rgba(60, 64, 67, 0.3), 0px 1px 3px 1px rgba(60, 64, 67, 0.15);\n",
              "      fill: #174EA6;\n",
              "    }\n",
              "\n",
              "    .colab-df-buttons div {\n",
              "      margin-bottom: 4px;\n",
              "    }\n",
              "\n",
              "    [theme=dark] .colab-df-convert {\n",
              "      background-color: #3B4455;\n",
              "      fill: #D2E3FC;\n",
              "    }\n",
              "\n",
              "    [theme=dark] .colab-df-convert:hover {\n",
              "      background-color: #434B5C;\n",
              "      box-shadow: 0px 1px 3px 1px rgba(0, 0, 0, 0.15);\n",
              "      filter: drop-shadow(0px 1px 2px rgba(0, 0, 0, 0.3));\n",
              "      fill: #FFFFFF;\n",
              "    }\n",
              "  </style>\n",
              "\n",
              "    <script>\n",
              "      const buttonEl =\n",
              "        document.querySelector('#df-12a0a3b1-f8ed-4fb0-bad5-edfb100f95c7 button.colab-df-convert');\n",
              "      buttonEl.style.display =\n",
              "        google.colab.kernel.accessAllowed ? 'block' : 'none';\n",
              "\n",
              "      async function convertToInteractive(key) {\n",
              "        const element = document.querySelector('#df-12a0a3b1-f8ed-4fb0-bad5-edfb100f95c7');\n",
              "        const dataTable =\n",
              "          await google.colab.kernel.invokeFunction('convertToInteractive',\n",
              "                                                    [key], {});\n",
              "        if (!dataTable) return;\n",
              "\n",
              "        const docLinkHtml = 'Like what you see? Visit the ' +\n",
              "          '<a target=\"_blank\" href=https://colab.research.google.com/notebooks/data_table.ipynb>data table notebook</a>'\n",
              "          + ' to learn more about interactive tables.';\n",
              "        element.innerHTML = '';\n",
              "        dataTable['output_type'] = 'display_data';\n",
              "        await google.colab.output.renderOutput(dataTable, element);\n",
              "        const docLink = document.createElement('div');\n",
              "        docLink.innerHTML = docLinkHtml;\n",
              "        element.appendChild(docLink);\n",
              "      }\n",
              "    </script>\n",
              "  </div>\n",
              "\n",
              "\n",
              "    <div id=\"df-13578630-d0cd-402a-be14-bee9ff81c538\">\n",
              "      <button class=\"colab-df-quickchart\" onclick=\"quickchart('df-13578630-d0cd-402a-be14-bee9ff81c538')\"\n",
              "                title=\"Suggest charts\"\n",
              "                style=\"display:none;\">\n",
              "\n",
              "<svg xmlns=\"http://www.w3.org/2000/svg\" height=\"24px\"viewBox=\"0 0 24 24\"\n",
              "     width=\"24px\">\n",
              "    <g>\n",
              "        <path d=\"M19 3H5c-1.1 0-2 .9-2 2v14c0 1.1.9 2 2 2h14c1.1 0 2-.9 2-2V5c0-1.1-.9-2-2-2zM9 17H7v-7h2v7zm4 0h-2V7h2v10zm4 0h-2v-4h2v4z\"/>\n",
              "    </g>\n",
              "</svg>\n",
              "      </button>\n",
              "\n",
              "<style>\n",
              "  .colab-df-quickchart {\n",
              "      --bg-color: #E8F0FE;\n",
              "      --fill-color: #1967D2;\n",
              "      --hover-bg-color: #E2EBFA;\n",
              "      --hover-fill-color: #174EA6;\n",
              "      --disabled-fill-color: #AAA;\n",
              "      --disabled-bg-color: #DDD;\n",
              "  }\n",
              "\n",
              "  [theme=dark] .colab-df-quickchart {\n",
              "      --bg-color: #3B4455;\n",
              "      --fill-color: #D2E3FC;\n",
              "      --hover-bg-color: #434B5C;\n",
              "      --hover-fill-color: #FFFFFF;\n",
              "      --disabled-bg-color: #3B4455;\n",
              "      --disabled-fill-color: #666;\n",
              "  }\n",
              "\n",
              "  .colab-df-quickchart {\n",
              "    background-color: var(--bg-color);\n",
              "    border: none;\n",
              "    border-radius: 50%;\n",
              "    cursor: pointer;\n",
              "    display: none;\n",
              "    fill: var(--fill-color);\n",
              "    height: 32px;\n",
              "    padding: 0;\n",
              "    width: 32px;\n",
              "  }\n",
              "\n",
              "  .colab-df-quickchart:hover {\n",
              "    background-color: var(--hover-bg-color);\n",
              "    box-shadow: 0 1px 2px rgba(60, 64, 67, 0.3), 0 1px 3px 1px rgba(60, 64, 67, 0.15);\n",
              "    fill: var(--button-hover-fill-color);\n",
              "  }\n",
              "\n",
              "  .colab-df-quickchart-complete:disabled,\n",
              "  .colab-df-quickchart-complete:disabled:hover {\n",
              "    background-color: var(--disabled-bg-color);\n",
              "    fill: var(--disabled-fill-color);\n",
              "    box-shadow: none;\n",
              "  }\n",
              "\n",
              "  .colab-df-spinner {\n",
              "    border: 2px solid var(--fill-color);\n",
              "    border-color: transparent;\n",
              "    border-bottom-color: var(--fill-color);\n",
              "    animation:\n",
              "      spin 1s steps(1) infinite;\n",
              "  }\n",
              "\n",
              "  @keyframes spin {\n",
              "    0% {\n",
              "      border-color: transparent;\n",
              "      border-bottom-color: var(--fill-color);\n",
              "      border-left-color: var(--fill-color);\n",
              "    }\n",
              "    20% {\n",
              "      border-color: transparent;\n",
              "      border-left-color: var(--fill-color);\n",
              "      border-top-color: var(--fill-color);\n",
              "    }\n",
              "    30% {\n",
              "      border-color: transparent;\n",
              "      border-left-color: var(--fill-color);\n",
              "      border-top-color: var(--fill-color);\n",
              "      border-right-color: var(--fill-color);\n",
              "    }\n",
              "    40% {\n",
              "      border-color: transparent;\n",
              "      border-right-color: var(--fill-color);\n",
              "      border-top-color: var(--fill-color);\n",
              "    }\n",
              "    60% {\n",
              "      border-color: transparent;\n",
              "      border-right-color: var(--fill-color);\n",
              "    }\n",
              "    80% {\n",
              "      border-color: transparent;\n",
              "      border-right-color: var(--fill-color);\n",
              "      border-bottom-color: var(--fill-color);\n",
              "    }\n",
              "    90% {\n",
              "      border-color: transparent;\n",
              "      border-bottom-color: var(--fill-color);\n",
              "    }\n",
              "  }\n",
              "</style>\n",
              "\n",
              "      <script>\n",
              "        async function quickchart(key) {\n",
              "          const quickchartButtonEl =\n",
              "            document.querySelector('#' + key + ' button');\n",
              "          quickchartButtonEl.disabled = true;  // To prevent multiple clicks.\n",
              "          quickchartButtonEl.classList.add('colab-df-spinner');\n",
              "          try {\n",
              "            const charts = await google.colab.kernel.invokeFunction(\n",
              "                'suggestCharts', [key], {});\n",
              "          } catch (error) {\n",
              "            console.error('Error during call to suggestCharts:', error);\n",
              "          }\n",
              "          quickchartButtonEl.classList.remove('colab-df-spinner');\n",
              "          quickchartButtonEl.classList.add('colab-df-quickchart-complete');\n",
              "        }\n",
              "        (() => {\n",
              "          let quickchartButtonEl =\n",
              "            document.querySelector('#df-13578630-d0cd-402a-be14-bee9ff81c538 button');\n",
              "          quickchartButtonEl.style.display =\n",
              "            google.colab.kernel.accessAllowed ? 'block' : 'none';\n",
              "        })();\n",
              "      </script>\n",
              "    </div>\n",
              "\n",
              "    </div>\n",
              "  </div>\n"
            ],
            "application/vnd.google.colaboratory.intrinsic+json": {
              "type": "dataframe",
              "variable_name": "df",
              "summary": "{\n  \"name\": \"df\",\n  \"rows\": 1000,\n  \"fields\": [\n    {\n      \"column\": \"Trip_Distance_km\",\n      \"properties\": {\n        \"dtype\": \"number\",\n        \"std\": 19.905299790562722,\n        \"min\": 1.23,\n        \"max\": 146.0670471598387,\n        \"num_unique_values\": 867,\n        \"samples\": [\n          39.04,\n          19.37,\n          49.36\n        ],\n        \"semantic_type\": \"\",\n        \"description\": \"\"\n      }\n    },\n    {\n      \"column\": \"Time_of_Day\",\n      \"properties\": {\n        \"dtype\": \"category\",\n        \"num_unique_values\": 4,\n        \"samples\": [\n          \"Afternoon\",\n          \"Night\",\n          \"Morning\"\n        ],\n        \"semantic_type\": \"\",\n        \"description\": \"\"\n      }\n    },\n    {\n      \"column\": \"Day_of_Week\",\n      \"properties\": {\n        \"dtype\": \"category\",\n        \"num_unique_values\": 2,\n        \"samples\": [\n          \"Weekend\",\n          \"Weekday\"\n        ],\n        \"semantic_type\": \"\",\n        \"description\": \"\"\n      }\n    },\n    {\n      \"column\": \"Passenger_Count\",\n      \"properties\": {\n        \"dtype\": \"number\",\n        \"std\": 1.1022491262257013,\n        \"min\": 1.0,\n        \"max\": 4.0,\n        \"num_unique_values\": 4,\n        \"samples\": [\n          1.0,\n          2.0\n        ],\n        \"semantic_type\": \"\",\n        \"description\": \"\"\n      }\n    },\n    {\n      \"column\": \"Traffic_Conditions\",\n      \"properties\": {\n        \"dtype\": \"category\",\n        \"num_unique_values\": 3,\n        \"samples\": [\n          \"Low\",\n          \"High\"\n        ],\n        \"semantic_type\": \"\",\n        \"description\": \"\"\n      }\n    },\n    {\n      \"column\": \"Weather\",\n      \"properties\": {\n        \"dtype\": \"category\",\n        \"num_unique_values\": 3,\n        \"samples\": [\n          \"Clear\",\n          \"Rain\"\n        ],\n        \"semantic_type\": \"\",\n        \"description\": \"\"\n      }\n    },\n    {\n      \"column\": \"Base_Fare\",\n      \"properties\": {\n        \"dtype\": \"number\",\n        \"std\": 0.8701619278680248,\n        \"min\": 2.01,\n        \"max\": 5.0,\n        \"num_unique_values\": 290,\n        \"samples\": [\n          3.35,\n          3.62\n        ],\n        \"semantic_type\": \"\",\n        \"description\": \"\"\n      }\n    },\n    {\n      \"column\": \"Per_Km_Rate\",\n      \"properties\": {\n        \"dtype\": \"number\",\n        \"std\": 0.4298158687087343,\n        \"min\": 0.5,\n        \"max\": 2.0,\n        \"num_unique_values\": 150,\n        \"samples\": [\n          0.96,\n          0.82\n        ],\n        \"semantic_type\": \"\",\n        \"description\": \"\"\n      }\n    },\n    {\n      \"column\": \"Per_Minute_Rate\",\n      \"properties\": {\n        \"dtype\": \"number\",\n        \"std\": 0.11559177133688461,\n        \"min\": 0.1,\n        \"max\": 0.5,\n        \"num_unique_values\": 41,\n        \"samples\": [\n          0.42,\n          0.25\n        ],\n        \"semantic_type\": \"\",\n        \"description\": \"\"\n      }\n    },\n    {\n      \"column\": \"Trip_Duration_Minutes\",\n      \"properties\": {\n        \"dtype\": \"number\",\n        \"std\": 32.1544064686338,\n        \"min\": 5.01,\n        \"max\": 119.84,\n        \"num_unique_values\": 917,\n        \"samples\": [\n          72.77,\n          95.55\n        ],\n        \"semantic_type\": \"\",\n        \"description\": \"\"\n      }\n    },\n    {\n      \"column\": \"Trip_Price\",\n      \"properties\": {\n        \"dtype\": \"number\",\n        \"std\": 40.46979055020966,\n        \"min\": 6.1269,\n        \"max\": 332.0436886774302,\n        \"num_unique_values\": 951,\n        \"samples\": [\n          31.3844,\n          97.4848\n        ],\n        \"semantic_type\": \"\",\n        \"description\": \"\"\n      }\n    }\n  ]\n}"
            }
          },
          "metadata": {},
          "execution_count": 3
        }
      ]
    },
    {
      "cell_type": "code",
      "source": [
        "#Checking the shape of the data\n",
        "print(f'The shape of the data is {df.shape}')\n",
        "print(f'The number of rows in the data is {df.shape[0]}')\n",
        "print(f'The number of columns in the data is {df.shape[1]}')"
      ],
      "metadata": {
        "colab": {
          "base_uri": "https://localhost:8080/"
        },
        "id": "ClLgiJt120y8",
        "outputId": "e377dcd8-6a6d-47d7-ca14-242e95b881d9"
      },
      "execution_count": null,
      "outputs": [
        {
          "output_type": "stream",
          "name": "stdout",
          "text": [
            "The shape of the data is (1000, 11)\n",
            "The number of rows in the data is 1000\n",
            "The number of columns in the data is 11\n"
          ]
        }
      ]
    },
    {
      "cell_type": "code",
      "source": [
        "df.info()"
      ],
      "metadata": {
        "colab": {
          "base_uri": "https://localhost:8080/"
        },
        "id": "gbiGW13N29-N",
        "outputId": "e7c70024-318e-48e6-cbb6-2d89ec54e307"
      },
      "execution_count": null,
      "outputs": [
        {
          "output_type": "stream",
          "name": "stdout",
          "text": [
            "<class 'pandas.core.frame.DataFrame'>\n",
            "RangeIndex: 1000 entries, 0 to 999\n",
            "Data columns (total 11 columns):\n",
            " #   Column                 Non-Null Count  Dtype  \n",
            "---  ------                 --------------  -----  \n",
            " 0   Trip_Distance_km       950 non-null    float64\n",
            " 1   Time_of_Day            950 non-null    object \n",
            " 2   Day_of_Week            950 non-null    object \n",
            " 3   Passenger_Count        950 non-null    float64\n",
            " 4   Traffic_Conditions     950 non-null    object \n",
            " 5   Weather                950 non-null    object \n",
            " 6   Base_Fare              950 non-null    float64\n",
            " 7   Per_Km_Rate            950 non-null    float64\n",
            " 8   Per_Minute_Rate        950 non-null    float64\n",
            " 9   Trip_Duration_Minutes  950 non-null    float64\n",
            " 10  Trip_Price             951 non-null    float64\n",
            "dtypes: float64(7), object(4)\n",
            "memory usage: 86.1+ KB\n"
          ]
        }
      ]
    },
    {
      "cell_type": "markdown",
      "source": [
        "#Data Cleaning"
      ],
      "metadata": {
        "id": "-3JN6HQJ6VgT"
      }
    },
    {
      "cell_type": "code",
      "source": [
        "df.isnull().sum()"
      ],
      "metadata": {
        "colab": {
          "base_uri": "https://localhost:8080/",
          "height": 429
        },
        "id": "z_ByrMHg3AEG",
        "outputId": "18af6596-5e54-42f9-b3e1-2e3cdebb3f54"
      },
      "execution_count": null,
      "outputs": [
        {
          "output_type": "execute_result",
          "data": {
            "text/plain": [
              "Trip_Distance_km         50\n",
              "Time_of_Day              50\n",
              "Day_of_Week              50\n",
              "Passenger_Count          50\n",
              "Traffic_Conditions       50\n",
              "Weather                  50\n",
              "Base_Fare                50\n",
              "Per_Km_Rate              50\n",
              "Per_Minute_Rate          50\n",
              "Trip_Duration_Minutes    50\n",
              "Trip_Price               49\n",
              "dtype: int64"
            ],
            "text/html": [
              "<div>\n",
              "<style scoped>\n",
              "    .dataframe tbody tr th:only-of-type {\n",
              "        vertical-align: middle;\n",
              "    }\n",
              "\n",
              "    .dataframe tbody tr th {\n",
              "        vertical-align: top;\n",
              "    }\n",
              "\n",
              "    .dataframe thead th {\n",
              "        text-align: right;\n",
              "    }\n",
              "</style>\n",
              "<table border=\"1\" class=\"dataframe\">\n",
              "  <thead>\n",
              "    <tr style=\"text-align: right;\">\n",
              "      <th></th>\n",
              "      <th>0</th>\n",
              "    </tr>\n",
              "  </thead>\n",
              "  <tbody>\n",
              "    <tr>\n",
              "      <th>Trip_Distance_km</th>\n",
              "      <td>50</td>\n",
              "    </tr>\n",
              "    <tr>\n",
              "      <th>Time_of_Day</th>\n",
              "      <td>50</td>\n",
              "    </tr>\n",
              "    <tr>\n",
              "      <th>Day_of_Week</th>\n",
              "      <td>50</td>\n",
              "    </tr>\n",
              "    <tr>\n",
              "      <th>Passenger_Count</th>\n",
              "      <td>50</td>\n",
              "    </tr>\n",
              "    <tr>\n",
              "      <th>Traffic_Conditions</th>\n",
              "      <td>50</td>\n",
              "    </tr>\n",
              "    <tr>\n",
              "      <th>Weather</th>\n",
              "      <td>50</td>\n",
              "    </tr>\n",
              "    <tr>\n",
              "      <th>Base_Fare</th>\n",
              "      <td>50</td>\n",
              "    </tr>\n",
              "    <tr>\n",
              "      <th>Per_Km_Rate</th>\n",
              "      <td>50</td>\n",
              "    </tr>\n",
              "    <tr>\n",
              "      <th>Per_Minute_Rate</th>\n",
              "      <td>50</td>\n",
              "    </tr>\n",
              "    <tr>\n",
              "      <th>Trip_Duration_Minutes</th>\n",
              "      <td>50</td>\n",
              "    </tr>\n",
              "    <tr>\n",
              "      <th>Trip_Price</th>\n",
              "      <td>49</td>\n",
              "    </tr>\n",
              "  </tbody>\n",
              "</table>\n",
              "</div><br><label><b>dtype:</b> int64</label>"
            ]
          },
          "metadata": {},
          "execution_count": 6
        }
      ]
    },
    {
      "cell_type": "markdown",
      "source": [
        "**Observations:**\n",
        "* There are null values in the dataset.\n",
        "\n",
        "#Null value Imputation"
      ],
      "metadata": {
        "id": "doSn50E36Pwe"
      }
    },
    {
      "cell_type": "code",
      "metadata": {
        "id": "72d87e23"
      },
      "source": [
        "#Filling missing numerical columns using median and categorical column with mo\n",
        "\n",
        "for col in df.columns:\n",
        "    if df[col].isnull().any():\n",
        "      if df[col].dtype in ['int64', 'float64']:\n",
        "        df[col].fillna(df[col].median(), inplace=True)\n",
        "      else:\n",
        "        df[col].fillna(df[col].mode()[0], inplace=True)"
      ],
      "execution_count": null,
      "outputs": []
    },
    {
      "cell_type": "code",
      "source": [
        "#Checking\n",
        "df.isnull().sum()"
      ],
      "metadata": {
        "id": "4r4_3AnXBj-u",
        "colab": {
          "base_uri": "https://localhost:8080/",
          "height": 429
        },
        "outputId": "d7c52977-be5f-4346-c7bc-d947fb671afe"
      },
      "execution_count": null,
      "outputs": [
        {
          "output_type": "execute_result",
          "data": {
            "text/plain": [
              "Trip_Distance_km         0\n",
              "Time_of_Day              0\n",
              "Day_of_Week              0\n",
              "Passenger_Count          0\n",
              "Traffic_Conditions       0\n",
              "Weather                  0\n",
              "Base_Fare                0\n",
              "Per_Km_Rate              0\n",
              "Per_Minute_Rate          0\n",
              "Trip_Duration_Minutes    0\n",
              "Trip_Price               0\n",
              "dtype: int64"
            ],
            "text/html": [
              "<div>\n",
              "<style scoped>\n",
              "    .dataframe tbody tr th:only-of-type {\n",
              "        vertical-align: middle;\n",
              "    }\n",
              "\n",
              "    .dataframe tbody tr th {\n",
              "        vertical-align: top;\n",
              "    }\n",
              "\n",
              "    .dataframe thead th {\n",
              "        text-align: right;\n",
              "    }\n",
              "</style>\n",
              "<table border=\"1\" class=\"dataframe\">\n",
              "  <thead>\n",
              "    <tr style=\"text-align: right;\">\n",
              "      <th></th>\n",
              "      <th>0</th>\n",
              "    </tr>\n",
              "  </thead>\n",
              "  <tbody>\n",
              "    <tr>\n",
              "      <th>Trip_Distance_km</th>\n",
              "      <td>0</td>\n",
              "    </tr>\n",
              "    <tr>\n",
              "      <th>Time_of_Day</th>\n",
              "      <td>0</td>\n",
              "    </tr>\n",
              "    <tr>\n",
              "      <th>Day_of_Week</th>\n",
              "      <td>0</td>\n",
              "    </tr>\n",
              "    <tr>\n",
              "      <th>Passenger_Count</th>\n",
              "      <td>0</td>\n",
              "    </tr>\n",
              "    <tr>\n",
              "      <th>Traffic_Conditions</th>\n",
              "      <td>0</td>\n",
              "    </tr>\n",
              "    <tr>\n",
              "      <th>Weather</th>\n",
              "      <td>0</td>\n",
              "    </tr>\n",
              "    <tr>\n",
              "      <th>Base_Fare</th>\n",
              "      <td>0</td>\n",
              "    </tr>\n",
              "    <tr>\n",
              "      <th>Per_Km_Rate</th>\n",
              "      <td>0</td>\n",
              "    </tr>\n",
              "    <tr>\n",
              "      <th>Per_Minute_Rate</th>\n",
              "      <td>0</td>\n",
              "    </tr>\n",
              "    <tr>\n",
              "      <th>Trip_Duration_Minutes</th>\n",
              "      <td>0</td>\n",
              "    </tr>\n",
              "    <tr>\n",
              "      <th>Trip_Price</th>\n",
              "      <td>0</td>\n",
              "    </tr>\n",
              "  </tbody>\n",
              "</table>\n",
              "</div><br><label><b>dtype:</b> int64</label>"
            ]
          },
          "metadata": {},
          "execution_count": 8
        }
      ]
    },
    {
      "cell_type": "markdown",
      "source": [
        "**Now, there are no NULL values**"
      ],
      "metadata": {
        "id": "XAh6Jsh67XIh"
      }
    },
    {
      "cell_type": "code",
      "source": [
        "#Checking for duplicates\n",
        "df.duplicated().sum()"
      ],
      "metadata": {
        "colab": {
          "base_uri": "https://localhost:8080/"
        },
        "id": "PCyHdYDq7Vx5",
        "outputId": "9440deb2-0534-4bad-fdc7-44723ea9f57a"
      },
      "execution_count": null,
      "outputs": [
        {
          "output_type": "execute_result",
          "data": {
            "text/plain": [
              "np.int64(0)"
            ]
          },
          "metadata": {},
          "execution_count": 9
        }
      ]
    },
    {
      "cell_type": "markdown",
      "source": [
        "**Observations:**\n",
        "* There are no duplicate values"
      ],
      "metadata": {
        "id": "eIHfUWfI7gdW"
      }
    },
    {
      "cell_type": "markdown",
      "source": [
        "#Exploratory data Analysis"
      ],
      "metadata": {
        "id": "dkKwhKcz7mcU"
      }
    },
    {
      "cell_type": "code",
      "source": [
        "#Cheking the target column\n",
        "plt.figure(figsize=(10,5))\n",
        "sns.histplot(df['Trip_Price'])\n",
        "plt.show()"
      ],
      "metadata": {
        "colab": {
          "base_uri": "https://localhost:8080/",
          "height": 465
        },
        "id": "20kIyZsa7fc3",
        "outputId": "a8191cb8-28cc-47a0-e586-ded758635d8c"
      },
      "execution_count": null,
      "outputs": [
        {
          "output_type": "display_data",
          "data": {
            "text/plain": [
              "<Figure size 1000x500 with 1 Axes>"
            ],
            "image/png": "[encoded data removed]"
          },
          "metadata": {}
        }
      ]
    },
    {
      "cell_type": "markdown",
      "source": [
        "**Observations**\n",
        "* There are outliers in the right tail."
      ],
      "metadata": {
        "id": "j_uzG9Cl8lus"
      }
    },
    {
      "cell_type": "code",
      "source": [
        "df.describe().T"
      ],
      "metadata": {
        "colab": {
          "base_uri": "https://localhost:8080/",
          "height": 269
        },
        "id": "XW6WwHgD7xbf",
        "outputId": "dcbb0c12-e74d-421c-d734-766378397c1b"
      },
      "execution_count": null,
      "outputs": [
        {
          "output_type": "execute_result",
          "data": {
            "text/plain": [
              "                        count      mean        std     min       25%      50%  \\\n",
              "Trip_Distance_km       1000.0  27.00852  19.402661  1.2300  13.10750  25.8300   \n",
              "Passenger_Count        1000.0   2.45300   1.079331  1.0000   2.00000   2.0000   \n",
              "Base_Fare              1000.0   3.50384   0.848115  2.0100   2.77000   3.5200   \n",
              "Per_Km_Rate            1000.0   1.23265   0.418932  0.5000   0.87000   1.2200   \n",
              "Per_Minute_Rate        1000.0   0.29277   0.112664  0.1000   0.19750   0.2900   \n",
              "Trip_Duration_Minutes  1000.0  62.10521  31.339464  5.0100  37.10750  61.8600   \n",
              "Trip_Price             1000.0  56.54156  39.492129  6.1269  34.57885  50.0745   \n",
              "\n",
              "                            75%         max  \n",
              "Trip_Distance_km       37.78250  146.067047  \n",
              "Passenger_Count         3.00000    4.000000  \n",
              "Base_Fare               4.20250    5.000000  \n",
              "Per_Km_Rate             1.58000    2.000000  \n",
              "Per_Minute_Rate         0.38250    0.500000  \n",
              "Trip_Duration_Minutes  87.77500  119.840000  \n",
              "Trip_Price             67.47665  332.043689  "
            ],
            "text/html": [
              "\n",
              "  <div id=\"df-8c1bf494-425d-40e9-ba35-e45c7f741fb2\" class=\"colab-df-container\">\n",
              "    <div>\n",
              "<style scoped>\n",
              "    .dataframe tbody tr th:only-of-type {\n",
              "        vertical-align: middle;\n",
              "    }\n",
              "\n",
              "    .dataframe tbody tr th {\n",
              "        vertical-align: top;\n",
              "    }\n",
              "\n",
              "    .dataframe thead th {\n",
              "        text-align: right;\n",
              "    }\n",
              "</style>\n",
              "<table border=\"1\" class=\"dataframe\">\n",
              "  <thead>\n",
              "    <tr style=\"text-align: right;\">\n",
              "      <th></th>\n",
              "      <th>count</th>\n",
              "      <th>mean</th>\n",
              "      <th>std</th>\n",
              "      <th>min</th>\n",
              "      <th>25%</th>\n",
              "      <th>50%</th>\n",
              "      <th>75%</th>\n",
              "      <th>max</th>\n",
              "    </tr>\n",
              "  </thead>\n",
              "  <tbody>\n",
              "    <tr>\n",
              "      <th>Trip_Distance_km</th>\n",
              "      <td>1000.0</td>\n",
              "      <td>27.00852</td>\n",
              "      <td>19.402661</td>\n",
              "      <td>1.2300</td>\n",
              "      <td>13.10750</td>\n",
              "      <td>25.8300</td>\n",
              "      <td>37.78250</td>\n",
              "      <td>146.067047</td>\n",
              "    </tr>\n",
              "    <tr>\n",
              "      <th>Passenger_Count</th>\n",
              "      <td>1000.0</td>\n",
              "      <td>2.45300</td>\n",
              "      <td>1.079331</td>\n",
              "      <td>1.0000</td>\n",
              "      <td>2.00000</td>\n",
              "      <td>2.0000</td>\n",
              "      <td>3.00000</td>\n",
              "      <td>4.000000</td>\n",
              "    </tr>\n",
              "    <tr>\n",
              "      <th>Base_Fare</th>\n",
              "      <td>1000.0</td>\n",
              "      <td>3.50384</td>\n",
              "      <td>0.848115</td>\n",
              "      <td>2.0100</td>\n",
              "      <td>2.77000</td>\n",
              "      <td>3.5200</td>\n",
              "      <td>4.20250</td>\n",
              "      <td>5.000000</td>\n",
              "    </tr>\n",
              "    <tr>\n",
              "      <th>Per_Km_Rate</th>\n",
              "      <td>1000.0</td>\n",
              "      <td>1.23265</td>\n",
              "      <td>0.418932</td>\n",
              "      <td>0.5000</td>\n",
              "      <td>0.87000</td>\n",
              "      <td>1.2200</td>\n",
              "      <td>1.58000</td>\n",
              "      <td>2.000000</td>\n",
              "    </tr>\n",
              "    <tr>\n",
              "      <th>Per_Minute_Rate</th>\n",
              "      <td>1000.0</td>\n",
              "      <td>0.29277</td>\n",
              "      <td>0.112664</td>\n",
              "      <td>0.1000</td>\n",
              "      <td>0.19750</td>\n",
              "      <td>0.2900</td>\n",
              "      <td>0.38250</td>\n",
              "      <td>0.500000</td>\n",
              "    </tr>\n",
              "    <tr>\n",
              "      <th>Trip_Duration_Minutes</th>\n",
              "      <td>1000.0</td>\n",
              "      <td>62.10521</td>\n",
              "      <td>31.339464</td>\n",
              "      <td>5.0100</td>\n",
              "      <td>37.10750</td>\n",
              "      <td>61.8600</td>\n",
              "      <td>87.77500</td>\n",
              "      <td>119.840000</td>\n",
              "    </tr>\n",
              "    <tr>\n",
              "      <th>Trip_Price</th>\n",
              "      <td>1000.0</td>\n",
              "      <td>56.54156</td>\n",
              "      <td>39.492129</td>\n",
              "      <td>6.1269</td>\n",
              "      <td>34.57885</td>\n",
              "      <td>50.0745</td>\n",
              "      <td>67.47665</td>\n",
              "      <td>332.043689</td>\n",
              "    </tr>\n",
              "  </tbody>\n",
              "</table>\n",
              "</div>\n",
              "    <div class=\"colab-df-buttons\">\n",
              "\n",
              "  <div class=\"colab-df-container\">\n",
              "    <button class=\"colab-df-convert\" onclick=\"convertToInteractive('df-8c1bf494-425d-40e9-ba35-e45c7f741fb2')\"\n",
              "            title=\"Convert this dataframe to an interactive table.\"\n",
              "            style=\"display:none;\">\n",
              "\n",
              "  <svg xmlns=\"http://www.w3.org/2000/svg\" height=\"24px\" viewBox=\"0 -960 960 960\">\n",
              "    <path d=\"M120-120v-720h720v720H120Zm60-500h600v-160H180v160Zm220 220h160v-160H400v160Zm0 220h160v-160H400v160ZM180-400h160v-160H180v160Zm440 0h160v-160H620v160ZM180-180h160v-160H180v160Zm440 0h160v-160H620v160Z\"/>\n",
              "  </svg>\n",
              "    </button>\n",
              "\n",
              "  <style>\n",
              "    .colab-df-container {\n",
              "      display:flex;\n",
              "      gap: 12px;\n",
              "    }\n",
              "\n",
              "    .colab-df-convert {\n",
              "      background-color: #E8F0FE;\n",
              "      border: none;\n",
              "      border-radius: 50%;\n",
              "      cursor: pointer;\n",
              "      display: none;\n",
              "      fill: #1967D2;\n",
              "      height: 32px;\n",
              "      padding: 0 0 0 0;\n",
              "      width: 32px;\n",
              "    }\n",
              "\n",
              "    .colab-df-convert:hover {\n",
              "      background-color: #E2EBFA;\n",
              "      box-shadow: 0px 1px 2px rgba(60, 64, 67, 0.3), 0px 1px 3px 1px rgba(60, 64, 67, 0.15);\n",
              "      fill: #174EA6;\n",
              "    }\n",
              "\n",
              "    .colab-df-buttons div {\n",
              "      margin-bottom: 4px;\n",
              "    }\n",
              "\n",
              "    [theme=dark] .colab-df-convert {\n",
              "      background-color: #3B4455;\n",
              "      fill: #D2E3FC;\n",
              "    }\n",
              "\n",
              "    [theme=dark] .colab-df-convert:hover {\n",
              "      background-color: #434B5C;\n",
              "      box-shadow: 0px 1px 3px 1px rgba(0, 0, 0, 0.15);\n",
              "      filter: drop-shadow(0px 1px 2px rgba(0, 0, 0, 0.3));\n",
              "      fill: #FFFFFF;\n",
              "    }\n",
              "  </style>\n",
              "\n",
              "    <script>\n",
              "      const buttonEl =\n",
              "        document.querySelector('#df-8c1bf494-425d-40e9-ba35-e45c7f741fb2 button.colab-df-convert');\n",
              "      buttonEl.style.display =\n",
              "        google.colab.kernel.accessAllowed ? 'block' : 'none';\n",
              "\n",
              "      async function convertToInteractive(key) {\n",
              "        const element = document.querySelector('#df-8c1bf494-425d-40e9-ba35-e45c7f741fb2');\n",
              "        const dataTable =\n",
              "          await google.colab.kernel.invokeFunction('convertToInteractive',\n",
              "                                                    [key], {});\n",
              "        if (!dataTable) return;\n",
              "\n",
              "        const docLinkHtml = 'Like what you see? Visit the ' +\n",
              "          '<a target=\"_blank\" href=https://colab.research.google.com/notebooks/data_table.ipynb>data table notebook</a>'\n",
              "          + ' to learn more about interactive tables.';\n",
              "        element.innerHTML = '';\n",
              "        dataTable['output_type'] = 'display_data';\n",
              "        await google.colab.output.renderOutput(dataTable, element);\n",
              "        const docLink = document.createElement('div');\n",
              "        docLink.innerHTML = docLinkHtml;\n",
              "        element.appendChild(docLink);\n",
              "      }\n",
              "    </script>\n",
              "  </div>\n",
              "\n",
              "\n",
              "    <div id=\"df-3fef37af-57a6-4e5b-af84-2e43ab850fcc\">\n",
              "      <button class=\"colab-df-quickchart\" onclick=\"quickchart('df-3fef37af-57a6-4e5b-af84-2e43ab850fcc')\"\n",
              "                title=\"Suggest charts\"\n",
              "                style=\"display:none;\">\n",
              "\n",
              "<svg xmlns=\"http://www.w3.org/2000/svg\" height=\"24px\"viewBox=\"0 0 24 24\"\n",
              "     width=\"24px\">\n",
              "    <g>\n",
              "        <path d=\"M19 3H5c-1.1 0-2 .9-2 2v14c0 1.1.9 2 2 2h14c1.1 0 2-.9 2-2V5c0-1.1-.9-2-2-2zM9 17H7v-7h2v7zm4 0h-2V7h2v10zm4 0h-2v-4h2v4z\"/>\n",
              "    </g>\n",
              "</svg>\n",
              "      </button>\n",
              "\n",
              "<style>\n",
              "  .colab-df-quickchart {\n",
              "      --bg-color: #E8F0FE;\n",
              "      --fill-color: #1967D2;\n",
              "      --hover-bg-color: #E2EBFA;\n",
              "      --hover-fill-color: #174EA6;\n",
              "      --disabled-fill-color: #AAA;\n",
              "      --disabled-bg-color: #DDD;\n",
              "  }\n",
              "\n",
              "  [theme=dark] .colab-df-quickchart {\n",
              "      --bg-color: #3B4455;\n",
              "      --fill-color: #D2E3FC;\n",
              "      --hover-bg-color: #434B5C;\n",
              "      --hover-fill-color: #FFFFFF;\n",
              "      --disabled-bg-color: #3B4455;\n",
              "      --disabled-fill-color: #666;\n",
              "  }\n",
              "\n",
              "  .colab-df-quickchart {\n",
              "    background-color: var(--bg-color);\n",
              "    border: none;\n",
              "    border-radius: 50%;\n",
              "    cursor: pointer;\n",
              "    display: none;\n",
              "    fill: var(--fill-color);\n",
              "    height: 32px;\n",
              "    padding: 0;\n",
              "    width: 32px;\n",
              "  }\n",
              "\n",
              "  .colab-df-quickchart:hover {\n",
              "    background-color: var(--hover-bg-color);\n",
              "    box-shadow: 0 1px 2px rgba(60, 64, 67, 0.3), 0 1px 3px 1px rgba(60, 64, 67, 0.15);\n",
              "    fill: var(--button-hover-fill-color);\n",
              "  }\n",
              "\n",
              "  .colab-df-quickchart-complete:disabled,\n",
              "  .colab-df-quickchart-complete:disabled:hover {\n",
              "    background-color: var(--disabled-bg-color);\n",
              "    fill: var(--disabled-fill-color);\n",
              "    box-shadow: none;\n",
              "  }\n",
              "\n",
              "  .colab-df-spinner {\n",
              "    border: 2px solid var(--fill-color);\n",
              "    border-color: transparent;\n",
              "    border-bottom-color: var(--fill-color);\n",
              "    animation:\n",
              "      spin 1s steps(1) infinite;\n",
              "  }\n",
              "\n",
              "  @keyframes spin {\n",
              "    0% {\n",
              "      border-color: transparent;\n",
              "      border-bottom-color: var(--fill-color);\n",
              "      border-left-color: var(--fill-color);\n",
              "    }\n",
              "    20% {\n",
              "      border-color: transparent;\n",
              "      border-left-color: var(--fill-color);\n",
              "      border-top-color: var(--fill-color);\n",
              "    }\n",
              "    30% {\n",
              "      border-color: transparent;\n",
              "      border-left-color: var(--fill-color);\n",
              "      border-top-color: var(--fill-color);\n",
              "      border-right-color: var(--fill-color);\n",
              "    }\n",
              "    40% {\n",
              "      border-color: transparent;\n",
              "      border-right-color: var(--fill-color);\n",
              "      border-top-color: var(--fill-color);\n",
              "    }\n",
              "    60% {\n",
              "      border-color: transparent;\n",
              "      border-right-color: var(--fill-color);\n",
              "    }\n",
              "    80% {\n",
              "      border-color: transparent;\n",
              "      border-right-color: var(--fill-color);\n",
              "      border-bottom-color: var(--fill-color);\n",
              "    }\n",
              "    90% {\n",
              "      border-color: transparent;\n",
              "      border-bottom-color: var(--fill-color);\n",
              "    }\n",
              "  }\n",
              "</style>\n",
              "\n",
              "      <script>\n",
              "        async function quickchart(key) {\n",
              "          const quickchartButtonEl =\n",
              "            document.querySelector('#' + key + ' button');\n",
              "          quickchartButtonEl.disabled = true;  // To prevent multiple clicks.\n",
              "          quickchartButtonEl.classList.add('colab-df-spinner');\n",
              "          try {\n",
              "            const charts = await google.colab.kernel.invokeFunction(\n",
              "                'suggestCharts', [key], {});\n",
              "          } catch (error) {\n",
              "            console.error('Error during call to suggestCharts:', error);\n",
              "          }\n",
              "          quickchartButtonEl.classList.remove('colab-df-spinner');\n",
              "          quickchartButtonEl.classList.add('colab-df-quickchart-complete');\n",
              "        }\n",
              "        (() => {\n",
              "          let quickchartButtonEl =\n",
              "            document.querySelector('#df-3fef37af-57a6-4e5b-af84-2e43ab850fcc button');\n",
              "          quickchartButtonEl.style.display =\n",
              "            google.colab.kernel.accessAllowed ? 'block' : 'none';\n",
              "        })();\n",
              "      </script>\n",
              "    </div>\n",
              "\n",
              "    </div>\n",
              "  </div>\n"
            ],
            "application/vnd.google.colaboratory.intrinsic+json": {
              "type": "dataframe",
              "summary": "{\n  \"name\": \"df\",\n  \"rows\": 7,\n  \"fields\": [\n    {\n      \"column\": \"count\",\n      \"properties\": {\n        \"dtype\": \"number\",\n        \"std\": 0.0,\n        \"min\": 1000.0,\n        \"max\": 1000.0,\n        \"num_unique_values\": 1,\n        \"samples\": [\n          1000.0\n        ],\n        \"semantic_type\": \"\",\n        \"description\": \"\"\n      }\n    },\n    {\n      \"column\": \"mean\",\n      \"properties\": {\n        \"dtype\": \"number\",\n        \"std\": 27.243366297768393,\n        \"min\": 0.29277000000000003,\n        \"max\": 62.10520999999999,\n        \"num_unique_values\": 7,\n        \"samples\": [\n          27.008519518673253\n        ],\n        \"semantic_type\": \"\",\n        \"description\": \"\"\n      }\n    },\n    {\n      \"column\": \"std\",\n      \"properties\": {\n        \"dtype\": \"number\",\n        \"std\": 16.79727500926739,\n        \"min\": 0.11266374847403327,\n        \"max\": 39.492129457534915,\n        \"num_unique_values\": 7,\n        \"samples\": [\n          19.402661015794468\n        ],\n        \"semantic_type\": \"\",\n        \"description\": \"\"\n      }\n    },\n    {\n      \"column\": \"min\",\n      \"properties\": {\n        \"dtype\": \"number\",\n        \"std\": 2.344713870552632,\n        \"min\": 0.1,\n        \"max\": 6.1269,\n        \"num_unique_values\": 7,\n        \"samples\": [\n          1.23\n        ],\n        \"semantic_type\": \"\",\n        \"description\": \"\"\n      }\n    },\n    {\n      \"column\": \"25%\",\n      \"properties\": {\n        \"dtype\": \"number\",\n        \"std\": 16.24553411137746,\n        \"min\": 0.1975,\n        \"max\": 37.1075,\n        \"num_unique_values\": 7,\n        \"samples\": [\n          13.1075\n        ],\n        \"semantic_type\": \"\",\n        \"description\": \"\"\n      }\n    },\n    {\n      \"column\": \"50%\",\n      \"properties\": {\n        \"dtype\": \"number\",\n        \"std\": 25.89788620786867,\n        \"min\": 0.29,\n        \"max\": 61.86,\n        \"num_unique_values\": 7,\n        \"samples\": [\n          25.83\n        ],\n        \"semantic_type\": \"\",\n        \"description\": \"\"\n      }\n    },\n    {\n      \"column\": \"75%\",\n      \"properties\": {\n        \"dtype\": \"number\",\n        \"std\": 36.22551498601536,\n        \"min\": 0.3825,\n        \"max\": 87.775,\n        \"num_unique_values\": 7,\n        \"samples\": [\n          37.7825\n        ],\n        \"semantic_type\": \"\",\n        \"description\": \"\"\n      }\n    },\n    {\n      \"column\": \"max\",\n      \"properties\": {\n        \"dtype\": \"number\",\n        \"std\": 124.45481910956516,\n        \"min\": 0.5,\n        \"max\": 332.0436886774302,\n        \"num_unique_values\": 7,\n        \"samples\": [\n          146.0670471598387\n        ],\n        \"semantic_type\": \"\",\n        \"description\": \"\"\n      }\n    }\n  ]\n}"
            }
          },
          "metadata": {},
          "execution_count": 11
        }
      ]
    },
    {
      "cell_type": "markdown",
      "metadata": {
        "id": "f0b13a53"
      },
      "source": [
        "**Observations**\n",
        "\n",
        "*   For most columns (Trip_Distance_km, Passenger_Count, Base_Fare, Per_Km_Rate, Per_Minute_Rate, Trip_Duration_Minutes), the mean and median are relatively close, suggesting that these distributions are not heavily skewed.\n",
        "*   **Trip_Price:** The mean (56.54) is significantly higher than the median (50.07). This indicates a right skew in the distribution, which is consistent with the earlier observation of outliers in the histogram. The presence of outliers in the higher values is pulling the mean towards the right.\n",
        "*   The presence of outliers in the `Trip_Price` column was also visually confirmed by the histogram."
      ]
    },
    {
      "cell_type": "markdown",
      "source": [
        "#Data Visualization"
      ],
      "metadata": {
        "id": "Spok_vzCnOze"
      }
    },
    {
      "cell_type": "code",
      "source": [
        "#Plotting Time of day vs Trip Price\n",
        "plt.figure(figsize=(7, 5))\n",
        "sns.boxplot(x='Time_of_Day', y='Trip_Price', data=df, palette='Set2')\n",
        "plt.title('Trip Price Distribution by Time of Day')\n",
        "plt.xlabel('Time of Day')\n",
        "plt.ylabel('Trip Price (USD)')\n",
        "plt.show()"
      ],
      "metadata": {
        "colab": {
          "base_uri": "https://localhost:8080/",
          "height": 487
        },
        "id": "oAedEVf78yha",
        "outputId": "d4d3a9a9-23c4-4dbd-8c6a-eb1bd3681ec6"
      },
      "execution_count": null,
      "outputs": [
        {
          "output_type": "display_data",
          "data": {
            "text/plain": [
              "<Figure size 700x500 with 1 Axes>"
            ],
            "image/png": "[encoded data removed]"
          },
          "metadata": {}
        }
      ]
    },
    {
      "cell_type": "markdown",
      "source": [
        "**Observations:**\n",
        "* The median trip prices appear to be relatively similar across all times of the day (Morning, Afternoon, Evening, and Night).\n",
        "* There are several outliers in the higher range of trip prices for all times of the day."
      ],
      "metadata": {
        "id": "oQNM2xmPoJEl"
      }
    },
    {
      "cell_type": "code",
      "source": [
        "#Plotting Time of day vs Traffic Conditions vs trip price\n",
        "plt.figure(figsize=(15, 12))\n",
        "df.groupby(['Time_of_Day', 'Traffic_Conditions'])['Trip_Price'].mean().unstack().plot(kind='bar')\n",
        "plt.title('Average Trip Price by Time of Day and Traffic Conditions')\n",
        "plt.xlabel('Time of Day')\n",
        "plt.ylabel('Average Trip Price (USD)')\n",
        "plt.legend(title='Traffic Conditions')\n",
        "plt.show()"
      ],
      "metadata": {
        "id": "Zo5rs36H--vr",
        "colab": {
          "base_uri": "https://localhost:8080/",
          "height": 542
        },
        "outputId": "1da5366d-721d-4ffe-bc79-1e90e88b5bc2"
      },
      "execution_count": null,
      "outputs": [
        {
          "output_type": "display_data",
          "data": {
            "text/plain": [
              "<Figure size 1500x1200 with 0 Axes>"
            ]
          },
          "metadata": {}
        },
        {
          "output_type": "display_data",
          "data": {
            "text/plain": [
              "<Figure size 640x480 with 1 Axes>"
            ],
            "image/png": "[encoded data removed]"
          },
          "metadata": {}
        }
      ]
    },
    {
      "cell_type": "markdown",
      "source": [
        "**Observations**\n",
        "* Average Trip price is higher, when Traffic conditions is high at Morning, followed by Night and Afternoon.\n",
        "* There is not much difference in the Trip Price for Low and Medium traffic connditions given any time of the day."
      ],
      "metadata": {
        "id": "R3KNwkbMpi3G"
      }
    },
    {
      "cell_type": "code",
      "source": [
        "#Plotting Week of the day and Trip Price\n",
        "plt.figure(figsize=(10, 5))\n",
        "sns.boxplot( x='Day_of_Week', y='Trip_Price', data=df, palette='Set2')\n",
        "plt.title('Trip Price Distribution by Week of the Day')\n",
        "plt.xlabel('Week of the Day')\n",
        "plt.ylabel('Trip Price (USD)')\n",
        "plt.show()"
      ],
      "metadata": {
        "colab": {
          "base_uri": "https://localhost:8080/",
          "height": 487
        },
        "id": "A_r8l_8LojQi",
        "outputId": "5188cf4d-ed0e-4df2-87cf-f59dda222145"
      },
      "execution_count": null,
      "outputs": [
        {
          "output_type": "display_data",
          "data": {
            "text/plain": [
              "<Figure size 1000x500 with 1 Axes>"
            ],
            "image/png": "[encoded data removed]"
          },
          "metadata": {}
        }
      ]
    },
    {
      "cell_type": "code",
      "source": [
        "#Plotting Time of day vs Traffic Conditions vs trip price\n",
        "plt.figure(figsize=(15, 12))\n",
        "df.groupby(['Time_of_Day', 'Day_of_Week'])['Trip_Price'].mean().unstack().plot(kind='bar')\n",
        "plt.title('Average Trip Price by Time of Day and Day of the Week')\n",
        "plt.xlabel('Time of Day')\n",
        "plt.ylabel('Average Trip Price (USD)')\n",
        "plt.legend(title='Day of the Week')\n",
        "plt.show()"
      ],
      "metadata": {
        "colab": {
          "base_uri": "https://localhost:8080/",
          "height": 542
        },
        "id": "KdwONJCRq6dC",
        "outputId": "5b4c6fbc-64bc-4e9d-da25-19d38ac1b344"
      },
      "execution_count": null,
      "outputs": [
        {
          "output_type": "display_data",
          "data": {
            "text/plain": [
              "<Figure size 1500x1200 with 0 Axes>"
            ]
          },
          "metadata": {}
        },
        {
          "output_type": "display_data",
          "data": {
            "text/plain": [
              "<Figure size 640x480 with 1 Axes>"
            ],
            "image/png": "[encoded data removed]"
          },
          "metadata": {}
        }
      ]
    },
    {
      "cell_type": "markdown",
      "source": [
        "**Observations:**\n",
        "* Average trip price at Night Time is high for Weekends compare to weekdays.\n"
      ],
      "metadata": {
        "id": "iCn92AS1sS5h"
      }
    },
    {
      "cell_type": "code",
      "source": [
        "df.head(3)"
      ],
      "metadata": {
        "colab": {
          "base_uri": "https://localhost:8080/",
          "height": 163
        },
        "id": "Sjy0OXuDr70S",
        "outputId": "fed01e11-ce8c-476b-f3c9-f2af1fbc1119"
      },
      "execution_count": null,
      "outputs": [
        {
          "output_type": "execute_result",
          "data": {
            "text/plain": [
              "   Trip_Distance_km Time_of_Day Day_of_Week  Passenger_Count  \\\n",
              "0             19.35     Morning     Weekday              3.0   \n",
              "1             47.59   Afternoon     Weekday              1.0   \n",
              "2             36.87     Evening     Weekend              1.0   \n",
              "\n",
              "  Traffic_Conditions Weather  Base_Fare  Per_Km_Rate  Per_Minute_Rate  \\\n",
              "0                Low   Clear       3.56         0.80             0.32   \n",
              "1               High   Clear       3.52         0.62             0.43   \n",
              "2               High   Clear       2.70         1.21             0.15   \n",
              "\n",
              "   Trip_Duration_Minutes  Trip_Price  \n",
              "0                  53.82     36.2624  \n",
              "1                  40.57     50.0745  \n",
              "2                  37.27     52.9032  "
            ],
            "text/html": [
              "\n",
              "  <div id=\"df-7250d610-a3f7-4adf-9125-c134913b2b1c\" class=\"colab-df-container\">\n",
              "    <div>\n",
              "<style scoped>\n",
              "    .dataframe tbody tr th:only-of-type {\n",
              "        vertical-align: middle;\n",
              "    }\n",
              "\n",
              "    .dataframe tbody tr th {\n",
              "        vertical-align: top;\n",
              "    }\n",
              "\n",
              "    .dataframe thead th {\n",
              "        text-align: right;\n",
              "    }\n",
              "</style>\n",
              "<table border=\"1\" class=\"dataframe\">\n",
              "  <thead>\n",
              "    <tr style=\"text-align: right;\">\n",
              "      <th></th>\n",
              "      <th>Trip_Distance_km</th>\n",
              "      <th>Time_of_Day</th>\n",
              "      <th>Day_of_Week</th>\n",
              "      <th>Passenger_Count</th>\n",
              "      <th>Traffic_Conditions</th>\n",
              "      <th>Weather</th>\n",
              "      <th>Base_Fare</th>\n",
              "      <th>Per_Km_Rate</th>\n",
              "      <th>Per_Minute_Rate</th>\n",
              "      <th>Trip_Duration_Minutes</th>\n",
              "      <th>Trip_Price</th>\n",
              "    </tr>\n",
              "  </thead>\n",
              "  <tbody>\n",
              "    <tr>\n",
              "      <th>0</th>\n",
              "      <td>19.35</td>\n",
              "      <td>Morning</td>\n",
              "      <td>Weekday</td>\n",
              "      <td>3.0</td>\n",
              "      <td>Low</td>\n",
              "      <td>Clear</td>\n",
              "      <td>3.56</td>\n",
              "      <td>0.80</td>\n",
              "      <td>0.32</td>\n",
              "      <td>53.82</td>\n",
              "      <td>36.2624</td>\n",
              "    </tr>\n",
              "    <tr>\n",
              "      <th>1</th>\n",
              "      <td>47.59</td>\n",
              "      <td>Afternoon</td>\n",
              "      <td>Weekday</td>\n",
              "      <td>1.0</td>\n",
              "      <td>High</td>\n",
              "      <td>Clear</td>\n",
              "      <td>3.52</td>\n",
              "      <td>0.62</td>\n",
              "      <td>0.43</td>\n",
              "      <td>40.57</td>\n",
              "      <td>50.0745</td>\n",
              "    </tr>\n",
              "    <tr>\n",
              "      <th>2</th>\n",
              "      <td>36.87</td>\n",
              "      <td>Evening</td>\n",
              "      <td>Weekend</td>\n",
              "      <td>1.0</td>\n",
              "      <td>High</td>\n",
              "      <td>Clear</td>\n",
              "      <td>2.70</td>\n",
              "      <td>1.21</td>\n",
              "      <td>0.15</td>\n",
              "      <td>37.27</td>\n",
              "      <td>52.9032</td>\n",
              "    </tr>\n",
              "  </tbody>\n",
              "</table>\n",
              "</div>\n",
              "    <div class=\"colab-df-buttons\">\n",
              "\n",
              "  <div class=\"colab-df-container\">\n",
              "    <button class=\"colab-df-convert\" onclick=\"convertToInteractive('df-7250d610-a3f7-4adf-9125-c134913b2b1c')\"\n",
              "            title=\"Convert this dataframe to an interactive table.\"\n",
              "            style=\"display:none;\">\n",
              "\n",
              "  <svg xmlns=\"http://www.w3.org/2000/svg\" height=\"24px\" viewBox=\"0 -960 960 960\">\n",
              "    <path d=\"M120-120v-720h720v720H120Zm60-500h600v-160H180v160Zm220 220h160v-160H400v160Zm0 220h160v-160H400v160ZM180-400h160v-160H180v160Zm440 0h160v-160H620v160ZM180-180h160v-160H180v160Zm440 0h160v-160H620v160Z\"/>\n",
              "  </svg>\n",
              "    </button>\n",
              "\n",
              "  <style>\n",
              "    .colab-df-container {\n",
              "      display:flex;\n",
              "      gap: 12px;\n",
              "    }\n",
              "\n",
              "    .colab-df-convert {\n",
              "      background-color: #E8F0FE;\n",
              "      border: none;\n",
              "      border-radius: 50%;\n",
              "      cursor: pointer;\n",
              "      display: none;\n",
              "      fill: #1967D2;\n",
              "      height: 32px;\n",
              "      padding: 0 0 0 0;\n",
              "      width: 32px;\n",
              "    }\n",
              "\n",
              "    .colab-df-convert:hover {\n",
              "      background-color: #E2EBFA;\n",
              "      box-shadow: 0px 1px 2px rgba(60, 64, 67, 0.3), 0px 1px 3px 1px rgba(60, 64, 67, 0.15);\n",
              "      fill: #174EA6;\n",
              "    }\n",
              "\n",
              "    .colab-df-buttons div {\n",
              "      margin-bottom: 4px;\n",
              "    }\n",
              "\n",
              "    [theme=dark] .colab-df-convert {\n",
              "      background-color: #3B4455;\n",
              "      fill: #D2E3FC;\n",
              "    }\n",
              "\n",
              "    [theme=dark] .colab-df-convert:hover {\n",
              "      background-color: #434B5C;\n",
              "      box-shadow: 0px 1px 3px 1px rgba(0, 0, 0, 0.15);\n",
              "      filter: drop-shadow(0px 1px 2px rgba(0, 0, 0, 0.3));\n",
              "      fill: #FFFFFF;\n",
              "    }\n",
              "  </style>\n",
              "\n",
              "    <script>\n",
              "      const buttonEl =\n",
              "        document.querySelector('#df-7250d610-a3f7-4adf-9125-c134913b2b1c button.colab-df-convert');\n",
              "      buttonEl.style.display =\n",
              "        google.colab.kernel.accessAllowed ? 'block' : 'none';\n",
              "\n",
              "      async function convertToInteractive(key) {\n",
              "        const element = document.querySelector('#df-7250d610-a3f7-4adf-9125-c134913b2b1c');\n",
              "        const dataTable =\n",
              "          await google.colab.kernel.invokeFunction('convertToInteractive',\n",
              "                                                    [key], {});\n",
              "        if (!dataTable) return;\n",
              "\n",
              "        const docLinkHtml = 'Like what you see? Visit the ' +\n",
              "          '<a target=\"_blank\" href=https://colab.research.google.com/notebooks/data_table.ipynb>data table notebook</a>'\n",
              "          + ' to learn more about interactive tables.';\n",
              "        element.innerHTML = '';\n",
              "        dataTable['output_type'] = 'display_data';\n",
              "        await google.colab.output.renderOutput(dataTable, element);\n",
              "        const docLink = document.createElement('div');\n",
              "        docLink.innerHTML = docLinkHtml;\n",
              "        element.appendChild(docLink);\n",
              "      }\n",
              "    </script>\n",
              "  </div>\n",
              "\n",
              "\n",
              "    <div id=\"df-1115e08c-ab91-459d-8156-354f364939d0\">\n",
              "      <button class=\"colab-df-quickchart\" onclick=\"quickchart('df-1115e08c-ab91-459d-8156-354f364939d0')\"\n",
              "                title=\"Suggest charts\"\n",
              "                style=\"display:none;\">\n",
              "\n",
              "<svg xmlns=\"http://www.w3.org/2000/svg\" height=\"24px\"viewBox=\"0 0 24 24\"\n",
              "     width=\"24px\">\n",
              "    <g>\n",
              "        <path d=\"M19 3H5c-1.1 0-2 .9-2 2v14c0 1.1.9 2 2 2h14c1.1 0 2-.9 2-2V5c0-1.1-.9-2-2-2zM9 17H7v-7h2v7zm4 0h-2V7h2v10zm4 0h-2v-4h2v4z\"/>\n",
              "    </g>\n",
              "</svg>\n",
              "      </button>\n",
              "\n",
              "<style>\n",
              "  .colab-df-quickchart {\n",
              "      --bg-color: #E8F0FE;\n",
              "      --fill-color: #1967D2;\n",
              "      --hover-bg-color: #E2EBFA;\n",
              "      --hover-fill-color: #174EA6;\n",
              "      --disabled-fill-color: #AAA;\n",
              "      --disabled-bg-color: #DDD;\n",
              "  }\n",
              "\n",
              "  [theme=dark] .colab-df-quickchart {\n",
              "      --bg-color: #3B4455;\n",
              "      --fill-color: #D2E3FC;\n",
              "      --hover-bg-color: #434B5C;\n",
              "      --hover-fill-color: #FFFFFF;\n",
              "      --disabled-bg-color: #3B4455;\n",
              "      --disabled-fill-color: #666;\n",
              "  }\n",
              "\n",
              "  .colab-df-quickchart {\n",
              "    background-color: var(--bg-color);\n",
              "    border: none;\n",
              "    border-radius: 50%;\n",
              "    cursor: pointer;\n",
              "    display: none;\n",
              "    fill: var(--fill-color);\n",
              "    height: 32px;\n",
              "    padding: 0;\n",
              "    width: 32px;\n",
              "  }\n",
              "\n",
              "  .colab-df-quickchart:hover {\n",
              "    background-color: var(--hover-bg-color);\n",
              "    box-shadow: 0 1px 2px rgba(60, 64, 67, 0.3), 0 1px 3px 1px rgba(60, 64, 67, 0.15);\n",
              "    fill: var(--button-hover-fill-color);\n",
              "  }\n",
              "\n",
              "  .colab-df-quickchart-complete:disabled,\n",
              "  .colab-df-quickchart-complete:disabled:hover {\n",
              "    background-color: var(--disabled-bg-color);\n",
              "    fill: var(--disabled-fill-color);\n",
              "    box-shadow: none;\n",
              "  }\n",
              "\n",
              "  .colab-df-spinner {\n",
              "    border: 2px solid var(--fill-color);\n",
              "    border-color: transparent;\n",
              "    border-bottom-color: var(--fill-color);\n",
              "    animation:\n",
              "      spin 1s steps(1) infinite;\n",
              "  }\n",
              "\n",
              "  @keyframes spin {\n",
              "    0% {\n",
              "      border-color: transparent;\n",
              "      border-bottom-color: var(--fill-color);\n",
              "      border-left-color: var(--fill-color);\n",
              "    }\n",
              "    20% {\n",
              "      border-color: transparent;\n",
              "      border-left-color: var(--fill-color);\n",
              "      border-top-color: var(--fill-color);\n",
              "    }\n",
              "    30% {\n",
              "      border-color: transparent;\n",
              "      border-left-color: var(--fill-color);\n",
              "      border-top-color: var(--fill-color);\n",
              "      border-right-color: var(--fill-color);\n",
              "    }\n",
              "    40% {\n",
              "      border-color: transparent;\n",
              "      border-right-color: var(--fill-color);\n",
              "      border-top-color: var(--fill-color);\n",
              "    }\n",
              "    60% {\n",
              "      border-color: transparent;\n",
              "      border-right-color: var(--fill-color);\n",
              "    }\n",
              "    80% {\n",
              "      border-color: transparent;\n",
              "      border-right-color: var(--fill-color);\n",
              "      border-bottom-color: var(--fill-color);\n",
              "    }\n",
              "    90% {\n",
              "      border-color: transparent;\n",
              "      border-bottom-color: var(--fill-color);\n",
              "    }\n",
              "  }\n",
              "</style>\n",
              "\n",
              "      <script>\n",
              "        async function quickchart(key) {\n",
              "          const quickchartButtonEl =\n",
              "            document.querySelector('#' + key + ' button');\n",
              "          quickchartButtonEl.disabled = true;  // To prevent multiple clicks.\n",
              "          quickchartButtonEl.classList.add('colab-df-spinner');\n",
              "          try {\n",
              "            const charts = await google.colab.kernel.invokeFunction(\n",
              "                'suggestCharts', [key], {});\n",
              "          } catch (error) {\n",
              "            console.error('Error during call to suggestCharts:', error);\n",
              "          }\n",
              "          quickchartButtonEl.classList.remove('colab-df-spinner');\n",
              "          quickchartButtonEl.classList.add('colab-df-quickchart-complete');\n",
              "        }\n",
              "        (() => {\n",
              "          let quickchartButtonEl =\n",
              "            document.querySelector('#df-1115e08c-ab91-459d-8156-354f364939d0 button');\n",
              "          quickchartButtonEl.style.display =\n",
              "            google.colab.kernel.accessAllowed ? 'block' : 'none';\n",
              "        })();\n",
              "      </script>\n",
              "    </div>\n",
              "\n",
              "    </div>\n",
              "  </div>\n"
            ],
            "application/vnd.google.colaboratory.intrinsic+json": {
              "type": "dataframe",
              "variable_name": "df",
              "summary": "{\n  \"name\": \"df\",\n  \"rows\": 1000,\n  \"fields\": [\n    {\n      \"column\": \"Trip_Distance_km\",\n      \"properties\": {\n        \"dtype\": \"number\",\n        \"std\": 19.402661015794468,\n        \"min\": 1.23,\n        \"max\": 146.0670471598387,\n        \"num_unique_values\": 868,\n        \"samples\": [\n          31.29,\n          40.31,\n          18.55\n        ],\n        \"semantic_type\": \"\",\n        \"description\": \"\"\n      }\n    },\n    {\n      \"column\": \"Time_of_Day\",\n      \"properties\": {\n        \"dtype\": \"category\",\n        \"num_unique_values\": 4,\n        \"samples\": [\n          \"Afternoon\",\n          \"Night\",\n          \"Morning\"\n        ],\n        \"semantic_type\": \"\",\n        \"description\": \"\"\n      }\n    },\n    {\n      \"column\": \"Day_of_Week\",\n      \"properties\": {\n        \"dtype\": \"category\",\n        \"num_unique_values\": 2,\n        \"samples\": [\n          \"Weekend\",\n          \"Weekday\"\n        ],\n        \"semantic_type\": \"\",\n        \"description\": \"\"\n      }\n    },\n    {\n      \"column\": \"Passenger_Count\",\n      \"properties\": {\n        \"dtype\": \"number\",\n        \"std\": 1.079331254043889,\n        \"min\": 1.0,\n        \"max\": 4.0,\n        \"num_unique_values\": 4,\n        \"samples\": [\n          1.0,\n          2.0\n        ],\n        \"semantic_type\": \"\",\n        \"description\": \"\"\n      }\n    },\n    {\n      \"column\": \"Traffic_Conditions\",\n      \"properties\": {\n        \"dtype\": \"category\",\n        \"num_unique_values\": 3,\n        \"samples\": [\n          \"Low\",\n          \"High\"\n        ],\n        \"semantic_type\": \"\",\n        \"description\": \"\"\n      }\n    },\n    {\n      \"column\": \"Weather\",\n      \"properties\": {\n        \"dtype\": \"category\",\n        \"num_unique_values\": 3,\n        \"samples\": [\n          \"Clear\",\n          \"Rain\"\n        ],\n        \"semantic_type\": \"\",\n        \"description\": \"\"\n      }\n    },\n    {\n      \"column\": \"Base_Fare\",\n      \"properties\": {\n        \"dtype\": \"number\",\n        \"std\": 0.84811470506822,\n        \"min\": 2.01,\n        \"max\": 5.0,\n        \"num_unique_values\": 290,\n        \"samples\": [\n          4.61,\n          3.62\n        ],\n        \"semantic_type\": \"\",\n        \"description\": \"\"\n      }\n    },\n    {\n      \"column\": \"Per_Km_Rate\",\n      \"properties\": {\n        \"dtype\": \"number\",\n        \"std\": 0.4189317143417064,\n        \"min\": 0.5,\n        \"max\": 2.0,\n        \"num_unique_values\": 150,\n        \"samples\": [\n          1.9,\n          0.84\n        ],\n        \"semantic_type\": \"\",\n        \"description\": \"\"\n      }\n    },\n    {\n      \"column\": \"Per_Minute_Rate\",\n      \"properties\": {\n        \"dtype\": \"number\",\n        \"std\": 0.11266374847403327,\n        \"min\": 0.1,\n        \"max\": 0.5,\n        \"num_unique_values\": 41,\n        \"samples\": [\n          0.38,\n          0.12\n        ],\n        \"semantic_type\": \"\",\n        \"description\": \"\"\n      }\n    },\n    {\n      \"column\": \"Trip_Duration_Minutes\",\n      \"properties\": {\n        \"dtype\": \"number\",\n        \"std\": 31.33946367344597,\n        \"min\": 5.01,\n        \"max\": 119.84,\n        \"num_unique_values\": 918,\n        \"samples\": [\n          15.7,\n          69.06\n        ],\n        \"semantic_type\": \"\",\n        \"description\": \"\"\n      }\n    },\n    {\n      \"column\": \"Trip_Price\",\n      \"properties\": {\n        \"dtype\": \"number\",\n        \"std\": 39.492129457534915,\n        \"min\": 6.1269,\n        \"max\": 332.0436886774302,\n        \"num_unique_values\": 951,\n        \"samples\": [\n          59.96039999999999,\n          69.99549999999999\n        ],\n        \"semantic_type\": \"\",\n        \"description\": \"\"\n      }\n    }\n  ]\n}"
            }
          },
          "metadata": {},
          "execution_count": 16
        }
      ]
    },
    {
      "cell_type": "code",
      "source": [
        "#Weather vs Trip Price\n",
        "plt.figure(figsize=(7, 5))\n",
        "sns.barplot(x='Weather', y='Trip_Price', data=df, palette='Set2')\n",
        "plt.title('Trip Price Distribution by Weather Conditions')\n",
        "plt.xlabel('Weather Conditions')\n",
        "plt.ylabel('Trip Price (USD)')\n",
        "plt.show()"
      ],
      "metadata": {
        "colab": {
          "base_uri": "https://localhost:8080/",
          "height": 487
        },
        "id": "pMdkg627s0JG",
        "outputId": "a226dee7-4c6f-4a26-8b53-c41feb6793b3"
      },
      "execution_count": null,
      "outputs": [
        {
          "output_type": "display_data",
          "data": {
            "text/plain": [
              "<Figure size 700x500 with 1 Axes>"
            ],
            "image/png": "[encoded data removed]"
          },
          "metadata": {}
        }
      ]
    },
    {
      "cell_type": "markdown",
      "metadata": {
        "id": "1621b60c"
      },
      "source": [
        "**Observations:**\n",
        "* The average trip price is slightly higher during \"Rain\" and \"Snow\" conditions compared to \"Clear\" conditions.\n",
        "* The error bars (indicating the standard deviation) are relatively large for all weather conditions, suggesting a considerable variation in trip prices within each category."
      ]
    },
    {
      "cell_type": "code",
      "source": [
        "#Plotting Trip distance vs Trip price\n",
        "plt.figure(figsize=(7, 5))\n",
        "sns.scatterplot(x='Trip_Distance_km', y='Trip_Price', data=df, color='blue')\n",
        "plt.title('Trip Price vs Trip Distance')\n",
        "plt.xlabel('Trip Distance (km)')\n",
        "plt.ylabel('Trip Price (USD)')\n",
        "plt.show()"
      ],
      "metadata": {
        "colab": {
          "base_uri": "https://localhost:8080/",
          "height": 487
        },
        "id": "5OZfLeEAujzn",
        "outputId": "ebfd938e-dc58-4cda-eeb5-2db0bf77e1bb"
      },
      "execution_count": null,
      "outputs": [
        {
          "output_type": "display_data",
          "data": {
            "text/plain": [
              "<Figure size 700x500 with 1 Axes>"
            ],
            "image/png": "[encoded data removed]"
          },
          "metadata": {}
        }
      ]
    },
    {
      "cell_type": "markdown",
      "metadata": {
        "id": "d93688b1"
      },
      "source": [
        "**Observations:**\n",
        "* Trip Price generally increases with Trip Distance.\n",
        "* There are some outliers with high trip prices for longer distances."
      ]
    },
    {
      "cell_type": "code",
      "source": [
        "#Correlation using Heatmap\n",
        "plt.figure(figsize=(7, 7))\n",
        "sns.heatmap(df.select_dtypes(include = 'number').corr(), annot=True, cmap='coolwarm')\n",
        "plt.title('Correlation Heatmap')\n",
        "plt.show()"
      ],
      "metadata": {
        "colab": {
          "base_uri": "https://localhost:8080/",
          "height": 762
        },
        "id": "l34WzBUWs-eM",
        "outputId": "d0e82d67-4c69-413c-ac9f-7c52cc019ab3"
      },
      "execution_count": null,
      "outputs": [
        {
          "output_type": "display_data",
          "data": {
            "text/plain": [
              "<Figure size 700x700 with 2 Axes>"
            ],
            "image/png": "[encoded data removed]"
          },
          "metadata": {}
        }
      ]
    },
    {
      "cell_type": "markdown",
      "source": [
        "**Observations:**\n",
        "*   There is a strong positive correlation between 'Trip_Distance_km' and 'Trip_Price' (0.83). This suggests that as the trip distance increases, the trip price also tends to increase significantly.\n",
        "*   'Per_Km_Rate' shows a moderate positive correlation with 'Trip_Price' (0.26).\n",
        "*   'Trip_Duration_Minutes' also shows a moderate positive correlation with 'Trip_Price' (0.21).\n",
        "*   Other features like 'Passenger_Count', 'Base_Fare', and 'Per_Minute_Rate' have weak correlations with 'Trip_Price', indicating they have less linear relationship with the trip price compared to distance, per km rate, and trip duration."
      ],
      "metadata": {
        "id": "dmK31B3evg3g"
      }
    },
    {
      "cell_type": "markdown",
      "source": [
        "#Data Pre-Processing\n",
        "\n",
        "**Seperating train and test data**"
      ],
      "metadata": {
        "id": "QzbkDRAZv2jr"
      }
    },
    {
      "cell_type": "code",
      "source": [
        "# Seperating the data into input features and target variabe\n",
        "X = df.drop('Trip_Price', axis=1)\n",
        "y = df['Trip_Price']"
      ],
      "metadata": {
        "id": "IOmrgsY2vnar"
      },
      "execution_count": null,
      "outputs": []
    },
    {
      "cell_type": "code",
      "source": [
        "# Getting the list of columns\n",
        "print(X.columns)"
      ],
      "metadata": {
        "colab": {
          "base_uri": "https://localhost:8080/"
        },
        "id": "OQaCVXPavmhb",
        "outputId": "7e997ed4-8108-4552-c370-f20140e9c11a"
      },
      "execution_count": null,
      "outputs": [
        {
          "output_type": "stream",
          "name": "stdout",
          "text": [
            "Index(['Trip_Distance_km', 'Time_of_Day', 'Day_of_Week', 'Passenger_Count',\n",
            "       'Traffic_Conditions', 'Weather', 'Base_Fare', 'Per_Km_Rate',\n",
            "       'Per_Minute_Rate', 'Trip_Duration_Minutes'],\n",
            "      dtype='object')\n"
          ]
        }
      ]
    },
    {
      "cell_type": "code",
      "source": [
        "# Getting the list of categorical columns and numerical columns\n",
        "categorical = ['Time_of_Day', 'Day_of_Week','Traffic_Conditions', 'Weather' ]\n",
        "numerical = ['Trip_Distance_km','Passenger_Count','Base_Fare','Per_Km_Rate','Per_Minute_Rate', 'Trip_Duration_Minutes']"
      ],
      "metadata": {
        "id": "_gRRiQYmuQ5e"
      },
      "execution_count": null,
      "outputs": []
    },
    {
      "cell_type": "markdown",
      "source": [
        "# Standardization and label Encoding"
      ],
      "metadata": {
        "id": "Gy6aiT6J4CHr"
      }
    },
    {
      "cell_type": "code",
      "source": [
        "# Preprocessing columns\n",
        "preprocessor = ColumnTransformer([\n",
        "    ('num', StandardScaler(), numerical),\n",
        "    ('cat', OneHotEncoder(drop='first'), categorical)\n",
        "])"
      ],
      "metadata": {
        "id": "MSyzPstQvey7"
      },
      "execution_count": null,
      "outputs": []
    },
    {
      "cell_type": "code",
      "source": [
        "# Splitting the data into training and testing\n",
        "X_train, X_test, y_train, y_test = train_test_split(X, y, test_size = 0.2, random_state = 5)"
      ],
      "metadata": {
        "id": "Ew--UOhoujwN"
      },
      "execution_count": null,
      "outputs": []
    },
    {
      "cell_type": "code",
      "source": [
        "# Preprocessing the data\n",
        "X_train = preprocessor.fit_transform(X_train)\n",
        "X_test = preprocessor.transform(X_test)"
      ],
      "metadata": {
        "id": "sUIZqjsZx50q"
      },
      "execution_count": null,
      "outputs": []
    },
    {
      "cell_type": "markdown",
      "source": [
        "#Building Base Model"
      ],
      "metadata": {
        "id": "5STEIFXn3vxZ"
      }
    },
    {
      "cell_type": "code",
      "source": [
        "#Base line ANN model\n",
        "model_base = Sequential([\n",
        "    Dense(8, input_dim = X_train.shape[1], activation = 'relu'),\n",
        "    Dense(1)\n",
        "])"
      ],
      "metadata": {
        "id": "Ugx5dlZcyQeq"
      },
      "execution_count": null,
      "outputs": []
    },
    {
      "cell_type": "code",
      "source": [
        "#Compiling the model\n",
        "model_base.compile(optimizer = 'adam', loss = 'mse', metrics = ['r2_score'])"
      ],
      "metadata": {
        "id": "Jj6Kg9VPyUnM"
      },
      "execution_count": null,
      "outputs": []
    },
    {
      "cell_type": "code",
      "source": [
        "#Training the model\n",
        "history_base = model_base.fit(X_train, y_train, validation_data = (X_test, y_test), epochs =100, verbose = 1)"
      ],
      "metadata": {
        "colab": {
          "base_uri": "https://localhost:8080/"
        },
        "id": "UDaovGlcyXES",
        "outputId": "2e6f4d7c-162c-4d7f-b158-c6f7a818691e"
      },
      "execution_count": null,
      "outputs": [
        {
          "output_type": "stream",
          "name": "stdout",
          "text": [
            "Epoch 1/100\n",
            "\u001b[1m25/25\u001b[0m \u001b[32m━━━━━━━━━━━━━━━━━━━━\u001b[0m\u001b[37m\u001b[0m \u001b[1m3s\u001b[0m 30ms/step - loss: 4358.8193 - r2_score: -2.3079 - val_loss: 3792.7322 - val_r2_score: -3.3253\n",
            "Epoch 2/100\n",
            "\u001b[1m25/25\u001b[0m \u001b[32m━━━━━━━━━━━━━━━━━━━━\u001b[0m\u001b[37m\u001b[0m \u001b[1m1s\u001b[0m 19ms/step - loss: 4936.8047 - r2_score: -1.8779 - val_loss: 3765.3169 - val_r2_score: -3.2940\n",
            "Epoch 3/100\n",
            "\u001b[1m25/25\u001b[0m \u001b[32m━━━━━━━━━━━━━━━━━━━━\u001b[0m\u001b[37m\u001b[0m \u001b[1m0s\u001b[0m 14ms/step - loss: 4656.9326 - r2_score: -2.1914 - val_loss: 3737.2480 - val_r2_score: -3.2620\n",
            "Epoch 4/100\n",
            "\u001b[1m25/25\u001b[0m \u001b[32m━━━━━━━━━━━━━━━━━━━━\u001b[0m\u001b[37m\u001b[0m \u001b[1m0s\u001b[0m 5ms/step - loss: 4667.3506 - r2_score: -1.8970 - val_loss: 3708.1494 - val_r2_score: -3.2288\n",
            "Epoch 5/100\n",
            "\u001b[1m25/25\u001b[0m \u001b[32m━━━━━━━━━━━━━━━━━━━━\u001b[0m\u001b[37m\u001b[0m \u001b[1m0s\u001b[0m 5ms/step - loss: 5447.5337 - r2_score: -1.6962 - val_loss: 3677.0144 - val_r2_score: -3.1933\n",
            "Epoch 6/100\n",
            "\u001b[1m25/25\u001b[0m \u001b[32m━━━━━━━━━━━━━━━━━━━━\u001b[0m\u001b[37m\u001b[0m \u001b[1m0s\u001b[0m 5ms/step - loss: 5142.9502 - r2_score: -1.8348 - val_loss: 3644.2451 - val_r2_score: -3.1560\n",
            "Epoch 7/100\n",
            "\u001b[1m25/25\u001b[0m \u001b[32m━━━━━━━━━━━━━━━━━━━━\u001b[0m\u001b[37m\u001b[0m \u001b[1m0s\u001b[0m 5ms/step - loss: 4875.5601 - r2_score: -1.6833 - val_loss: 3609.3818 - val_r2_score: -3.1162\n",
            "Epoch 8/100\n",
            "\u001b[1m25/25\u001b[0m \u001b[32m━━━━━━━━━━━━━━━━━━━━\u001b[0m\u001b[37m\u001b[0m \u001b[1m0s\u001b[0m 8ms/step - loss: 4201.9927 - r2_score: -2.0877 - val_loss: 3572.1335 - val_r2_score: -3.0737\n",
            "Epoch 9/100\n",
            "\u001b[1m25/25\u001b[0m \u001b[32m━━━━━━━━━━━━━━━━━━━━\u001b[0m\u001b[37m\u001b[0m \u001b[1m0s\u001b[0m 7ms/step - loss: 4381.4404 - r2_score: -1.7429 - val_loss: 3531.3730 - val_r2_score: -3.0272\n",
            "Epoch 10/100\n",
            "\u001b[1m25/25\u001b[0m \u001b[32m━━━━━━━━━━━━━━━━━━━━\u001b[0m\u001b[37m\u001b[0m \u001b[1m0s\u001b[0m 8ms/step - loss: 4472.6729 - r2_score: -1.7782 - val_loss: 3488.2268 - val_r2_score: -2.9780\n",
            "Epoch 11/100\n",
            "\u001b[1m25/25\u001b[0m \u001b[32m━━━━━━━━━━━━━━━━━━━━\u001b[0m\u001b[37m\u001b[0m \u001b[1m0s\u001b[0m 7ms/step - loss: 4685.7910 - r2_score: -1.6269 - val_loss: 3441.5361 - val_r2_score: -2.9248\n",
            "Epoch 12/100\n",
            "\u001b[1m25/25\u001b[0m \u001b[32m━━━━━━━━━━━━━━━━━━━━\u001b[0m\u001b[37m\u001b[0m \u001b[1m0s\u001b[0m 8ms/step - loss: 4180.3047 - r2_score: -1.8511 - val_loss: 3391.1604 - val_r2_score: -2.8673\n",
            "Epoch 13/100\n",
            "\u001b[1m25/25\u001b[0m \u001b[32m━━━━━━━━━━━━━━━━━━━━\u001b[0m\u001b[37m\u001b[0m \u001b[1m0s\u001b[0m 8ms/step - loss: 4802.0327 - r2_score: -1.5018 - val_loss: 3337.4924 - val_r2_score: -2.8061\n",
            "Epoch 14/100\n",
            "\u001b[1m25/25\u001b[0m \u001b[32m━━━━━━━━━━━━━━━━━━━━\u001b[0m\u001b[37m\u001b[0m \u001b[1m0s\u001b[0m 9ms/step - loss: 4468.0547 - r2_score: -1.5220 - val_loss: 3282.6655 - val_r2_score: -2.7436\n",
            "Epoch 15/100\n",
            "\u001b[1m25/25\u001b[0m \u001b[32m━━━━━━━━━━━━━━━━━━━━\u001b[0m\u001b[37m\u001b[0m \u001b[1m0s\u001b[0m 6ms/step - loss: 4454.5000 - r2_score: -1.5958 - val_loss: 3223.6541 - val_r2_score: -2.6763\n",
            "Epoch 16/100\n",
            "\u001b[1m25/25\u001b[0m \u001b[32m━━━━━━━━━━━━━━━━━━━━\u001b[0m\u001b[37m\u001b[0m \u001b[1m0s\u001b[0m 5ms/step - loss: 4872.9116 - r2_score: -1.4546 - val_loss: 3162.6455 - val_r2_score: -2.6067\n",
            "Epoch 17/100\n",
            "\u001b[1m25/25\u001b[0m \u001b[32m━━━━━━━━━━━━━━━━━━━━\u001b[0m\u001b[37m\u001b[0m \u001b[1m0s\u001b[0m 5ms/step - loss: 3882.3833 - r2_score: -1.9429 - val_loss: 3100.4678 - val_r2_score: -2.5358\n",
            "Epoch 18/100\n",
            "\u001b[1m25/25\u001b[0m \u001b[32m━━━━━━━━━━━━━━━━━━━━\u001b[0m\u001b[37m\u001b[0m \u001b[1m0s\u001b[0m 5ms/step - loss: 3945.7737 - r2_score: -1.6005 - val_loss: 3034.0925 - val_r2_score: -2.4601\n",
            "Epoch 19/100\n",
            "\u001b[1m25/25\u001b[0m \u001b[32m━━━━━━━━━━━━━━━━━━━━\u001b[0m\u001b[37m\u001b[0m \u001b[1m0s\u001b[0m 5ms/step - loss: 4421.8286 - r2_score: -1.2825 - val_loss: 2965.5952 - val_r2_score: -2.3820\n",
            "Epoch 20/100\n",
            "\u001b[1m25/25\u001b[0m \u001b[32m━━━━━━━━━━━━━━━━━━━━\u001b[0m\u001b[37m\u001b[0m \u001b[1m0s\u001b[0m 5ms/step - loss: 3981.9424 - r2_score: -1.3732 - val_loss: 2893.8640 - val_r2_score: -2.3002\n",
            "Epoch 21/100\n",
            "\u001b[1m25/25\u001b[0m \u001b[32m━━━━━━━━━━━━━━━━━━━━\u001b[0m\u001b[37m\u001b[0m \u001b[1m0s\u001b[0m 16ms/step - loss: 4069.0015 - r2_score: -1.4913 - val_loss: 2818.3643 - val_r2_score: -2.2141\n",
            "Epoch 22/100\n",
            "\u001b[1m25/25\u001b[0m \u001b[32m━━━━━━━━━━━━━━━━━━━━\u001b[0m\u001b[37m\u001b[0m \u001b[1m0s\u001b[0m 5ms/step - loss: 4071.4102 - r2_score: -1.1904 - val_loss: 2743.1404 - val_r2_score: -2.1283\n",
            "Epoch 23/100\n",
            "\u001b[1m25/25\u001b[0m \u001b[32m━━━━━━━━━━━━━━━━━━━━\u001b[0m\u001b[37m\u001b[0m \u001b[1m0s\u001b[0m 6ms/step - loss: 4138.8110 - r2_score: -1.0631 - val_loss: 2661.8328 - val_r2_score: -2.0356\n",
            "Epoch 24/100\n",
            "\u001b[1m25/25\u001b[0m \u001b[32m━━━━━━━━━━━━━━━━━━━━\u001b[0m\u001b[37m\u001b[0m \u001b[1m0s\u001b[0m 5ms/step - loss: 4270.6777 - r2_score: -1.0683 - val_loss: 2578.5430 - val_r2_score: -1.9406\n",
            "Epoch 25/100\n",
            "\u001b[1m25/25\u001b[0m \u001b[32m━━━━━━━━━━━━━━━━━━━━\u001b[0m\u001b[37m\u001b[0m \u001b[1m0s\u001b[0m 5ms/step - loss: 3707.3301 - r2_score: -1.0470 - val_loss: 2496.8486 - val_r2_score: -1.8474\n",
            "Epoch 26/100\n",
            "\u001b[1m25/25\u001b[0m \u001b[32m━━━━━━━━━━━━━━━━━━━━\u001b[0m\u001b[37m\u001b[0m \u001b[1m0s\u001b[0m 5ms/step - loss: 3591.4915 - r2_score: -0.9814 - val_loss: 2410.8044 - val_r2_score: -1.7493\n",
            "Epoch 27/100\n",
            "\u001b[1m25/25\u001b[0m \u001b[32m━━━━━━━━━━━━━━━━━━━━\u001b[0m\u001b[37m\u001b[0m \u001b[1m0s\u001b[0m 5ms/step - loss: 2958.7700 - r2_score: -1.0790 - val_loss: 2325.7419 - val_r2_score: -1.6523\n",
            "Epoch 28/100\n",
            "\u001b[1m25/25\u001b[0m \u001b[32m━━━━━━━━━━━━━━━━━━━━\u001b[0m\u001b[37m\u001b[0m \u001b[1m0s\u001b[0m 5ms/step - loss: 3318.7458 - r2_score: -0.8603 - val_loss: 2239.0483 - val_r2_score: -1.5534\n",
            "Epoch 29/100\n",
            "\u001b[1m25/25\u001b[0m \u001b[32m━━━━━━━━━━━━━━━━━━━━\u001b[0m\u001b[37m\u001b[0m \u001b[1m0s\u001b[0m 5ms/step - loss: 3320.8872 - r2_score: -0.8476 - val_loss: 2154.4316 - val_r2_score: -1.4569\n",
            "Epoch 30/100\n",
            "\u001b[1m25/25\u001b[0m \u001b[32m━━━━━━━━━━━━━━━━━━━━\u001b[0m\u001b[37m\u001b[0m \u001b[1m0s\u001b[0m 6ms/step - loss: 2990.7759 - r2_score: -0.7971 - val_loss: 2070.6548 - val_r2_score: -1.3614\n",
            "Epoch 31/100\n",
            "\u001b[1m25/25\u001b[0m \u001b[32m━━━━━━━━━━━━━━━━━━━━\u001b[0m\u001b[37m\u001b[0m \u001b[1m0s\u001b[0m 5ms/step - loss: 3089.8059 - r2_score: -0.8260 - val_loss: 1986.2959 - val_r2_score: -1.2652\n",
            "Epoch 32/100\n",
            "\u001b[1m25/25\u001b[0m \u001b[32m━━━━━━━━━━━━━━━━━━━━\u001b[0m\u001b[37m\u001b[0m \u001b[1m0s\u001b[0m 6ms/step - loss: 2923.1550 - r2_score: -0.6665 - val_loss: 1904.2749 - val_r2_score: -1.1717\n",
            "Epoch 33/100\n",
            "\u001b[1m25/25\u001b[0m \u001b[32m━━━━━━━━━━━━━━━━━━━━\u001b[0m\u001b[37m\u001b[0m \u001b[1m0s\u001b[0m 5ms/step - loss: 3230.7390 - r2_score: -0.5650 - val_loss: 1824.8917 - val_r2_score: -1.0811\n",
            "Epoch 34/100\n",
            "\u001b[1m25/25\u001b[0m \u001b[32m━━━━━━━━━━━━━━━━━━━━\u001b[0m\u001b[37m\u001b[0m \u001b[1m0s\u001b[0m 5ms/step - loss: 2567.7258 - r2_score: -0.5883 - val_loss: 1747.0874 - val_r2_score: -0.9924\n",
            "Epoch 35/100\n",
            "\u001b[1m25/25\u001b[0m \u001b[32m━━━━━━━━━━━━━━━━━━━━\u001b[0m\u001b[37m\u001b[0m \u001b[1m0s\u001b[0m 6ms/step - loss: 2589.2729 - r2_score: -0.5296 - val_loss: 1671.2490 - val_r2_score: -0.9059\n",
            "Epoch 36/100\n",
            "\u001b[1m25/25\u001b[0m \u001b[32m━━━━━━━━━━━━━━━━━━━━\u001b[0m\u001b[37m\u001b[0m \u001b[1m0s\u001b[0m 6ms/step - loss: 2064.2778 - r2_score: -0.5411 - val_loss: 1599.3428 - val_r2_score: -0.8239\n",
            "Epoch 37/100\n",
            "\u001b[1m25/25\u001b[0m \u001b[32m━━━━━━━━━━━━━━━━━━━━\u001b[0m\u001b[37m\u001b[0m \u001b[1m0s\u001b[0m 5ms/step - loss: 2107.1050 - r2_score: -0.4597 - val_loss: 1529.1458 - val_r2_score: -0.7439\n",
            "Epoch 38/100\n",
            "\u001b[1m25/25\u001b[0m \u001b[32m━━━━━━━━━━━━━━━━━━━━\u001b[0m\u001b[37m\u001b[0m \u001b[1m0s\u001b[0m 5ms/step - loss: 2601.7744 - r2_score: -0.3051 - val_loss: 1460.7169 - val_r2_score: -0.6658\n",
            "Epoch 39/100\n",
            "\u001b[1m25/25\u001b[0m \u001b[32m━━━━━━━━━━━━━━━━━━━━\u001b[0m\u001b[37m\u001b[0m \u001b[1m0s\u001b[0m 5ms/step - loss: 1824.4031 - r2_score: -0.3970 - val_loss: 1396.7322 - val_r2_score: -0.5929\n",
            "Epoch 40/100\n",
            "\u001b[1m25/25\u001b[0m \u001b[32m━━━━━━━━━━━━━━━━━━━━\u001b[0m\u001b[37m\u001b[0m \u001b[1m0s\u001b[0m 5ms/step - loss: 1737.3079 - r2_score: -0.3657 - val_loss: 1337.3369 - val_r2_score: -0.5251\n",
            "Epoch 41/100\n",
            "\u001b[1m25/25\u001b[0m \u001b[32m━━━━━━━━━━━━━━━━━━━━\u001b[0m\u001b[37m\u001b[0m \u001b[1m0s\u001b[0m 5ms/step - loss: 1869.9642 - r2_score: -0.2213 - val_loss: 1276.7808 - val_r2_score: -0.4561\n",
            "Epoch 42/100\n",
            "\u001b[1m25/25\u001b[0m \u001b[32m━━━━━━━━━━━━━━━━━━━━\u001b[0m\u001b[37m\u001b[0m \u001b[1m0s\u001b[0m 6ms/step - loss: 2073.6821 - r2_score: -0.1534 - val_loss: 1220.6683 - val_r2_score: -0.3921\n",
            "Epoch 43/100\n",
            "\u001b[1m25/25\u001b[0m \u001b[32m━━━━━━━━━━━━━━━━━━━━\u001b[0m\u001b[37m\u001b[0m \u001b[1m0s\u001b[0m 5ms/step - loss: 2132.8723 - r2_score: -0.1318 - val_loss: 1170.9136 - val_r2_score: -0.3353\n",
            "Epoch 44/100\n",
            "\u001b[1m25/25\u001b[0m \u001b[32m━━━━━━━━━━━━━━━━━━━━\u001b[0m\u001b[37m\u001b[0m \u001b[1m0s\u001b[0m 5ms/step - loss: 1896.6962 - r2_score: -0.0527 - val_loss: 1120.8447 - val_r2_score: -0.2782\n",
            "Epoch 45/100\n",
            "\u001b[1m25/25\u001b[0m \u001b[32m━━━━━━━━━━━━━━━━━━━━\u001b[0m\u001b[37m\u001b[0m \u001b[1m0s\u001b[0m 5ms/step - loss: 1610.7311 - r2_score: -0.0307 - val_loss: 1076.2401 - val_r2_score: -0.2274\n",
            "Epoch 46/100\n",
            "\u001b[1m25/25\u001b[0m \u001b[32m━━━━━━━━━━━━━━━━━━━━\u001b[0m\u001b[37m\u001b[0m \u001b[1m0s\u001b[0m 5ms/step - loss: 1907.9587 - r2_score: -0.0056 - val_loss: 1032.6515 - val_r2_score: -0.1777\n",
            "Epoch 47/100\n",
            "\u001b[1m25/25\u001b[0m \u001b[32m━━━━━━━━━━━━━━━━━━━━\u001b[0m\u001b[37m\u001b[0m \u001b[1m0s\u001b[0m 5ms/step - loss: 1600.1416 - r2_score: -0.0346 - val_loss: 993.7375 - val_r2_score: -0.1333\n",
            "Epoch 48/100\n",
            "\u001b[1m25/25\u001b[0m \u001b[32m━━━━━━━━━━━━━━━━━━━━\u001b[0m\u001b[37m\u001b[0m \u001b[1m0s\u001b[0m 5ms/step - loss: 1347.9108 - r2_score: -0.0055 - val_loss: 956.9001 - val_r2_score: -0.0913\n",
            "Epoch 49/100\n",
            "\u001b[1m25/25\u001b[0m \u001b[32m━━━━━━━━━━━━━━━━━━━━\u001b[0m\u001b[37m\u001b[0m \u001b[1m0s\u001b[0m 5ms/step - loss: 2020.9484 - r2_score: 0.0820 - val_loss: 921.6624 - val_r2_score: -0.0511\n",
            "Epoch 50/100\n",
            "\u001b[1m25/25\u001b[0m \u001b[32m━━━━━━━━━━━━━━━━━━━━\u001b[0m\u001b[37m\u001b[0m \u001b[1m0s\u001b[0m 5ms/step - loss: 1783.6594 - r2_score: 0.0939 - val_loss: 889.2751 - val_r2_score: -0.0141\n",
            "Epoch 51/100\n",
            "\u001b[1m25/25\u001b[0m \u001b[32m━━━━━━━━━━━━━━━━━━━━\u001b[0m\u001b[37m\u001b[0m \u001b[1m0s\u001b[0m 5ms/step - loss: 1411.7458 - r2_score: 0.1090 - val_loss: 861.2123 - val_r2_score: 0.0179\n",
            "Epoch 52/100\n",
            "\u001b[1m25/25\u001b[0m \u001b[32m━━━━━━━━━━━━━━━━━━━━\u001b[0m\u001b[37m\u001b[0m \u001b[1m0s\u001b[0m 5ms/step - loss: 1452.2092 - r2_score: 0.1548 - val_loss: 834.1694 - val_r2_score: 0.0487\n",
            "Epoch 53/100\n",
            "\u001b[1m25/25\u001b[0m \u001b[32m━━━━━━━━━━━━━━━━━━━━\u001b[0m\u001b[37m\u001b[0m \u001b[1m0s\u001b[0m 5ms/step - loss: 1403.4503 - r2_score: 0.1212 - val_loss: 807.7879 - val_r2_score: 0.0788\n",
            "Epoch 54/100\n",
            "\u001b[1m25/25\u001b[0m \u001b[32m━━━━━━━━━━━━━━━━━━━━\u001b[0m\u001b[37m\u001b[0m \u001b[1m0s\u001b[0m 5ms/step - loss: 1609.5962 - r2_score: 0.2244 - val_loss: 783.0405 - val_r2_score: 0.1070\n",
            "Epoch 55/100\n",
            "\u001b[1m25/25\u001b[0m \u001b[32m━━━━━━━━━━━━━━━━━━━━\u001b[0m\u001b[37m\u001b[0m \u001b[1m0s\u001b[0m 5ms/step - loss: 1260.4564 - r2_score: 0.2108 - val_loss: 763.1105 - val_r2_score: 0.1297\n",
            "Epoch 56/100\n",
            "\u001b[1m25/25\u001b[0m \u001b[32m━━━━━━━━━━━━━━━━━━━━\u001b[0m\u001b[37m\u001b[0m \u001b[1m0s\u001b[0m 6ms/step - loss: 1352.5970 - r2_score: 0.2314 - val_loss: 742.2866 - val_r2_score: 0.1535\n",
            "Epoch 57/100\n",
            "\u001b[1m25/25\u001b[0m \u001b[32m━━━━━━━━━━━━━━━━━━━━\u001b[0m\u001b[37m\u001b[0m \u001b[1m0s\u001b[0m 5ms/step - loss: 1188.3530 - r2_score: 0.2940 - val_loss: 724.5217 - val_r2_score: 0.1737\n",
            "Epoch 58/100\n",
            "\u001b[1m25/25\u001b[0m \u001b[32m━━━━━━━━━━━━━━━━━━━━\u001b[0m\u001b[37m\u001b[0m \u001b[1m0s\u001b[0m 5ms/step - loss: 1586.9784 - r2_score: 0.2760 - val_loss: 706.6910 - val_r2_score: 0.1941\n",
            "Epoch 59/100\n",
            "\u001b[1m25/25\u001b[0m \u001b[32m━━━━━━━━━━━━━━━━━━━━\u001b[0m\u001b[37m\u001b[0m \u001b[1m0s\u001b[0m 5ms/step - loss: 1143.7799 - r2_score: 0.3555 - val_loss: 691.5321 - val_r2_score: 0.2114\n",
            "Epoch 60/100\n",
            "\u001b[1m25/25\u001b[0m \u001b[32m━━━━━━━━━━━━━━━━━━━━\u001b[0m\u001b[37m\u001b[0m \u001b[1m0s\u001b[0m 8ms/step - loss: 941.7732 - r2_score: 0.3638 - val_loss: 677.3572 - val_r2_score: 0.2275\n",
            "Epoch 61/100\n",
            "\u001b[1m25/25\u001b[0m \u001b[32m━━━━━━━━━━━━━━━━━━━━\u001b[0m\u001b[37m\u001b[0m \u001b[1m0s\u001b[0m 8ms/step - loss: 1107.8733 - r2_score: 0.3173 - val_loss: 662.2841 - val_r2_score: 0.2447\n",
            "Epoch 62/100\n",
            "\u001b[1m25/25\u001b[0m \u001b[32m━━━━━━━━━━━━━━━━━━━━\u001b[0m\u001b[37m\u001b[0m \u001b[1m0s\u001b[0m 8ms/step - loss: 1269.8820 - r2_score: 0.2773 - val_loss: 649.8504 - val_r2_score: 0.2589\n",
            "Epoch 63/100\n",
            "\u001b[1m25/25\u001b[0m \u001b[32m━━━━━━━━━━━━━━━━━━━━\u001b[0m\u001b[37m\u001b[0m \u001b[1m0s\u001b[0m 8ms/step - loss: 977.4913 - r2_score: 0.2930 - val_loss: 637.8367 - val_r2_score: 0.2726\n",
            "Epoch 64/100\n",
            "\u001b[1m25/25\u001b[0m \u001b[32m━━━━━━━━━━━━━━━━━━━━\u001b[0m\u001b[37m\u001b[0m \u001b[1m0s\u001b[0m 8ms/step - loss: 1139.9583 - r2_score: 0.3549 - val_loss: 625.9548 - val_r2_score: 0.2862\n",
            "Epoch 65/100\n",
            "\u001b[1m25/25\u001b[0m \u001b[32m━━━━━━━━━━━━━━━━━━━━\u001b[0m\u001b[37m\u001b[0m \u001b[1m0s\u001b[0m 9ms/step - loss: 1134.8807 - r2_score: 0.3604 - val_loss: 616.1176 - val_r2_score: 0.2974\n",
            "Epoch 66/100\n",
            "\u001b[1m25/25\u001b[0m \u001b[32m━━━━━━━━━━━━━━━━━━━━\u001b[0m\u001b[37m\u001b[0m \u001b[1m0s\u001b[0m 8ms/step - loss: 1069.7592 - r2_score: 0.3735 - val_loss: 606.0147 - val_r2_score: 0.3089\n",
            "Epoch 67/100\n",
            "\u001b[1m25/25\u001b[0m \u001b[32m━━━━━━━━━━━━━━━━━━━━\u001b[0m\u001b[37m\u001b[0m \u001b[1m0s\u001b[0m 9ms/step - loss: 1258.2676 - r2_score: 0.3462 - val_loss: 596.3883 - val_r2_score: 0.3199\n",
            "Epoch 68/100\n",
            "\u001b[1m25/25\u001b[0m \u001b[32m━━━━━━━━━━━━━━━━━━━━\u001b[0m\u001b[37m\u001b[0m \u001b[1m0s\u001b[0m 5ms/step - loss: 803.1790 - r2_score: 0.4455 - val_loss: 587.9183 - val_r2_score: 0.3295\n",
            "Epoch 69/100\n",
            "\u001b[1m25/25\u001b[0m \u001b[32m━━━━━━━━━━━━━━━━━━━━\u001b[0m\u001b[37m\u001b[0m \u001b[1m0s\u001b[0m 5ms/step - loss: 693.9030 - r2_score: 0.4588 - val_loss: 579.0520 - val_r2_score: 0.3396\n",
            "Epoch 70/100\n",
            "\u001b[1m25/25\u001b[0m \u001b[32m━━━━━━━━━━━━━━━━━━━━\u001b[0m\u001b[37m\u001b[0m \u001b[1m0s\u001b[0m 5ms/step - loss: 1048.8040 - r2_score: 0.4329 - val_loss: 570.1101 - val_r2_score: 0.3498\n",
            "Epoch 71/100\n",
            "\u001b[1m25/25\u001b[0m \u001b[32m━━━━━━━━━━━━━━━━━━━━\u001b[0m\u001b[37m\u001b[0m \u001b[1m0s\u001b[0m 5ms/step - loss: 974.9902 - r2_score: 0.3766 - val_loss: 562.1077 - val_r2_score: 0.3590\n",
            "Epoch 72/100\n",
            "\u001b[1m25/25\u001b[0m \u001b[32m━━━━━━━━━━━━━━━━━━━━\u001b[0m\u001b[37m\u001b[0m \u001b[1m0s\u001b[0m 5ms/step - loss: 881.0654 - r2_score: 0.4769 - val_loss: 554.2485 - val_r2_score: 0.3679\n",
            "Epoch 73/100\n",
            "\u001b[1m25/25\u001b[0m \u001b[32m━━━━━━━━━━━━━━━━━━━━\u001b[0m\u001b[37m\u001b[0m \u001b[1m0s\u001b[0m 5ms/step - loss: 934.3622 - r2_score: 0.4587 - val_loss: 546.4255 - val_r2_score: 0.3768\n",
            "Epoch 74/100\n",
            "\u001b[1m25/25\u001b[0m \u001b[32m━━━━━━━━━━━━━━━━━━━━\u001b[0m\u001b[37m\u001b[0m \u001b[1m0s\u001b[0m 5ms/step - loss: 1259.0372 - r2_score: 0.4092 - val_loss: 539.0892 - val_r2_score: 0.3852\n",
            "Epoch 75/100\n",
            "\u001b[1m25/25\u001b[0m \u001b[32m━━━━━━━━━━━━━━━━━━━━\u001b[0m\u001b[37m\u001b[0m \u001b[1m0s\u001b[0m 6ms/step - loss: 988.0851 - r2_score: 0.4277 - val_loss: 531.6128 - val_r2_score: 0.3937\n",
            "Epoch 76/100\n",
            "\u001b[1m25/25\u001b[0m \u001b[32m━━━━━━━━━━━━━━━━━━━━\u001b[0m\u001b[37m\u001b[0m \u001b[1m0s\u001b[0m 6ms/step - loss: 999.8260 - r2_score: 0.4678 - val_loss: 524.7039 - val_r2_score: 0.4016\n",
            "Epoch 77/100\n",
            "\u001b[1m25/25\u001b[0m \u001b[32m━━━━━━━━━━━━━━━━━━━━\u001b[0m\u001b[37m\u001b[0m \u001b[1m0s\u001b[0m 5ms/step - loss: 925.7283 - r2_score: 0.4546 - val_loss: 518.0300 - val_r2_score: 0.4092\n",
            "Epoch 78/100\n",
            "\u001b[1m25/25\u001b[0m \u001b[32m━━━━━━━━━━━━━━━━━━━━\u001b[0m\u001b[37m\u001b[0m \u001b[1m0s\u001b[0m 5ms/step - loss: 606.6334 - r2_score: 0.5169 - val_loss: 511.7597 - val_r2_score: 0.4164\n",
            "Epoch 79/100\n",
            "\u001b[1m25/25\u001b[0m \u001b[32m━━━━━━━━━━━━━━━━━━━━\u001b[0m\u001b[37m\u001b[0m \u001b[1m0s\u001b[0m 5ms/step - loss: 709.2271 - r2_score: 0.5019 - val_loss: 504.6932 - val_r2_score: 0.4244\n",
            "Epoch 80/100\n",
            "\u001b[1m25/25\u001b[0m \u001b[32m━━━━━━━━━━━━━━━━━━━━\u001b[0m\u001b[37m\u001b[0m \u001b[1m0s\u001b[0m 5ms/step - loss: 906.7924 - r2_score: 0.5043 - val_loss: 498.0706 - val_r2_score: 0.4320\n",
            "Epoch 81/100\n",
            "\u001b[1m25/25\u001b[0m \u001b[32m━━━━━━━━━━━━━━━━━━━━\u001b[0m\u001b[37m\u001b[0m \u001b[1m0s\u001b[0m 5ms/step - loss: 909.1124 - r2_score: 0.4912 - val_loss: 491.3625 - val_r2_score: 0.4396\n",
            "Epoch 82/100\n",
            "\u001b[1m25/25\u001b[0m \u001b[32m━━━━━━━━━━━━━━━━━━━━\u001b[0m\u001b[37m\u001b[0m \u001b[1m0s\u001b[0m 5ms/step - loss: 691.2863 - r2_score: 0.4975 - val_loss: 485.0092 - val_r2_score: 0.4469\n",
            "Epoch 83/100\n",
            "\u001b[1m25/25\u001b[0m \u001b[32m━━━━━━━━━━━━━━━━━━━━\u001b[0m\u001b[37m\u001b[0m \u001b[1m0s\u001b[0m 5ms/step - loss: 685.1592 - r2_score: 0.5254 - val_loss: 478.7141 - val_r2_score: 0.4541\n",
            "Epoch 84/100\n",
            "\u001b[1m25/25\u001b[0m \u001b[32m━━━━━━━━━━━━━━━━━━━━\u001b[0m\u001b[37m\u001b[0m \u001b[1m0s\u001b[0m 5ms/step - loss: 1097.5248 - r2_score: 0.5266 - val_loss: 472.0779 - val_r2_score: 0.4616\n",
            "Epoch 85/100\n",
            "\u001b[1m25/25\u001b[0m \u001b[32m━━━━━━━━━━━━━━━━━━━━\u001b[0m\u001b[37m\u001b[0m \u001b[1m0s\u001b[0m 5ms/step - loss: 880.9756 - r2_score: 0.5612 - val_loss: 466.2472 - val_r2_score: 0.4683\n",
            "Epoch 86/100\n",
            "\u001b[1m25/25\u001b[0m \u001b[32m━━━━━━━━━━━━━━━━━━━━\u001b[0m\u001b[37m\u001b[0m \u001b[1m0s\u001b[0m 5ms/step - loss: 1117.3579 - r2_score: 0.5358 - val_loss: 460.1586 - val_r2_score: 0.4752\n",
            "Epoch 87/100\n",
            "\u001b[1m25/25\u001b[0m \u001b[32m━━━━━━━━━━━━━━━━━━━━\u001b[0m\u001b[37m\u001b[0m \u001b[1m0s\u001b[0m 7ms/step - loss: 656.5893 - r2_score: 0.5697 - val_loss: 454.2546 - val_r2_score: 0.4820\n",
            "Epoch 88/100\n",
            "\u001b[1m25/25\u001b[0m \u001b[32m━━━━━━━━━━━━━━━━━━━━\u001b[0m\u001b[37m\u001b[0m \u001b[1m0s\u001b[0m 5ms/step - loss: 744.9787 - r2_score: 0.5430 - val_loss: 448.3523 - val_r2_score: 0.4887\n",
            "Epoch 89/100\n",
            "\u001b[1m25/25\u001b[0m \u001b[32m━━━━━━━━━━━━━━━━━━━━\u001b[0m\u001b[37m\u001b[0m \u001b[1m0s\u001b[0m 5ms/step - loss: 647.5319 - r2_score: 0.5833 - val_loss: 442.8939 - val_r2_score: 0.4949\n",
            "Epoch 90/100\n",
            "\u001b[1m25/25\u001b[0m \u001b[32m━━━━━━━━━━━━━━━━━━━━\u001b[0m\u001b[37m\u001b[0m \u001b[1m0s\u001b[0m 6ms/step - loss: 524.2026 - r2_score: 0.6118 - val_loss: 437.4171 - val_r2_score: 0.5012\n",
            "Epoch 91/100\n",
            "\u001b[1m25/25\u001b[0m \u001b[32m━━━━━━━━━━━━━━━━━━━━\u001b[0m\u001b[37m\u001b[0m \u001b[1m0s\u001b[0m 6ms/step - loss: 803.7288 - r2_score: 0.5833 - val_loss: 431.1685 - val_r2_score: 0.5083\n",
            "Epoch 92/100\n",
            "\u001b[1m25/25\u001b[0m \u001b[32m━━━━━━━━━━━━━━━━━━━━\u001b[0m\u001b[37m\u001b[0m \u001b[1m0s\u001b[0m 5ms/step - loss: 851.4839 - r2_score: 0.5870 - val_loss: 425.6451 - val_r2_score: 0.5146\n",
            "Epoch 93/100\n",
            "\u001b[1m25/25\u001b[0m \u001b[32m━━━━━━━━━━━━━━━━━━━━\u001b[0m\u001b[37m\u001b[0m \u001b[1m0s\u001b[0m 5ms/step - loss: 593.2894 - r2_score: 0.5794 - val_loss: 420.4378 - val_r2_score: 0.5205\n",
            "Epoch 94/100\n",
            "\u001b[1m25/25\u001b[0m \u001b[32m━━━━━━━━━━━━━━━━━━━━\u001b[0m\u001b[37m\u001b[0m \u001b[1m0s\u001b[0m 5ms/step - loss: 731.3065 - r2_score: 0.5311 - val_loss: 415.0521 - val_r2_score: 0.5267\n",
            "Epoch 95/100\n",
            "\u001b[1m25/25\u001b[0m \u001b[32m━━━━━━━━━━━━━━━━━━━━\u001b[0m\u001b[37m\u001b[0m \u001b[1m0s\u001b[0m 5ms/step - loss: 787.4011 - r2_score: 0.5653 - val_loss: 409.4118 - val_r2_score: 0.5331\n",
            "Epoch 96/100\n",
            "\u001b[1m25/25\u001b[0m \u001b[32m━━━━━━━━━━━━━━━━━━━━\u001b[0m\u001b[37m\u001b[0m \u001b[1m0s\u001b[0m 7ms/step - loss: 665.5304 - r2_score: 0.6159 - val_loss: 404.6284 - val_r2_score: 0.5386\n",
            "Epoch 97/100\n",
            "\u001b[1m25/25\u001b[0m \u001b[32m━━━━━━━━━━━━━━━━━━━━\u001b[0m\u001b[37m\u001b[0m \u001b[1m0s\u001b[0m 5ms/step - loss: 572.8350 - r2_score: 0.6155 - val_loss: 399.3723 - val_r2_score: 0.5445\n",
            "Epoch 98/100\n",
            "\u001b[1m25/25\u001b[0m \u001b[32m━━━━━━━━━━━━━━━━━━━━\u001b[0m\u001b[37m\u001b[0m \u001b[1m0s\u001b[0m 5ms/step - loss: 618.1047 - r2_score: 0.6151 - val_loss: 394.6922 - val_r2_score: 0.5499\n",
            "Epoch 99/100\n",
            "\u001b[1m25/25\u001b[0m \u001b[32m━━━━━━━━━━━━━━━━━━━━\u001b[0m\u001b[37m\u001b[0m \u001b[1m0s\u001b[0m 5ms/step - loss: 733.6307 - r2_score: 0.5827 - val_loss: 389.5612 - val_r2_score: 0.5557\n",
            "Epoch 100/100\n",
            "\u001b[1m25/25\u001b[0m \u001b[32m━━━━━━━━━━━━━━━━━━━━\u001b[0m\u001b[37m\u001b[0m \u001b[1m0s\u001b[0m 5ms/step - loss: 703.0433 - r2_score: 0.6198 - val_loss: 384.8627 - val_r2_score: 0.5611\n"
          ]
        }
      ]
    },
    {
      "cell_type": "code",
      "source": [
        "#Model Evaluation\n",
        "loss_base, r2_base = model_base.evaluate(X_test, y_test)\n",
        "print(f' Loss(MSE): {loss_base}')\n",
        "print(f' R2 Score: {r2_base}')"
      ],
      "metadata": {
        "colab": {
          "base_uri": "https://localhost:8080/"
        },
        "id": "lFe4y-fpyZvq",
        "outputId": "5fda9856-aba7-4f28-c4f3-4045b0938f46"
      },
      "execution_count": null,
      "outputs": [
        {
          "output_type": "stream",
          "name": "stdout",
          "text": [
            "\u001b[1m7/7\u001b[0m \u001b[32m━━━━━━━━━━━━━━━━━━━━\u001b[0m\u001b[37m\u001b[0m \u001b[1m0s\u001b[0m 5ms/step - loss: 375.0536 - r2_score: 0.4989 \n",
            " Loss(MSE): 384.8626708984375\n",
            " R2 Score: 0.5610963702201843\n"
          ]
        }
      ]
    },
    {
      "cell_type": "markdown",
      "source": [
        "#Building Optimal Model"
      ],
      "metadata": {
        "id": "yJdNKzRl3rOH"
      }
    },
    {
      "cell_type": "code",
      "source": [
        "#Optimized ANN model with Dropout\n",
        "\n",
        "from tensorflow.keras.layers import Dropout\n",
        "\n",
        "#Optimized model with Dropouts\n",
        "\n",
        "model_opt = Sequential([\n",
        "    Dense(128, input_dim = X_train.shape[1], activation = 'relu'),\n",
        "    Dropout(0.3),\n",
        "    Dense(64, activation = 'relu'),\n",
        "    Dropout(0.2),\n",
        "    Dense(32, activation = 'relu'),\n",
        "    Dropout(0.1),\n",
        "    Dense(1)\n",
        "])"
      ],
      "metadata": {
        "id": "_Eq44_o_zqrh"
      },
      "execution_count": null,
      "outputs": []
    },
    {
      "cell_type": "code",
      "source": [
        "#Compiling the model\n",
        "model_opt.compile(optimizer = tf.keras.optimizers.Adam(learning_rate = 0.001),\n",
        "                                                       loss = 'mse', metrics = ['r2_score'])"
      ],
      "metadata": {
        "id": "eafgALeyzxb_"
      },
      "execution_count": null,
      "outputs": []
    },
    {
      "cell_type": "code",
      "source": [
        "#Early stopping\n",
        "early_stop = EarlyStopping(monitor = 'val_loss', patience = 5, restore_best_weights =True)"
      ],
      "metadata": {
        "id": "vE1Eq5XIz2YD"
      },
      "execution_count": null,
      "outputs": []
    },
    {
      "cell_type": "code",
      "source": [
        "#Training the model\n",
        "history_opt = model_opt.fit(X_train, y_train, validation_data = (X_test, y_test),\n",
        "                             epochs = 500, batch_size = 16, callbacks = [early_stop], verbose = 1)"
      ],
      "metadata": {
        "colab": {
          "base_uri": "https://localhost:8080/"
        },
        "id": "l_gVQNUUz5K7",
        "outputId": "10678cdf-f70f-4292-daef-a90eb489db9f"
      },
      "execution_count": null,
      "outputs": [
        {
          "output_type": "stream",
          "name": "stdout",
          "text": [
            "Epoch 1/500\n",
            "\u001b[1m50/50\u001b[0m \u001b[32m━━━━━━━━━━━━━━━━━━━━\u001b[0m\u001b[37m\u001b[0m \u001b[1m2s\u001b[0m 8ms/step - loss: 5261.4004 - r2_score: -1.5953 - val_loss: 2513.1304 - val_r2_score: -1.8660\n",
            "Epoch 2/500\n",
            "\u001b[1m50/50\u001b[0m \u001b[32m━━━━━━━━━━━━━━━━━━━━\u001b[0m\u001b[37m\u001b[0m \u001b[1m0s\u001b[0m 4ms/step - loss: 2261.2051 - r2_score: -0.6454 - val_loss: 466.9668 - val_r2_score: 0.4675\n",
            "Epoch 3/500\n",
            "\u001b[1m50/50\u001b[0m \u001b[32m━━━━━━━━━━━━━━━━━━━━\u001b[0m\u001b[37m\u001b[0m \u001b[1m0s\u001b[0m 4ms/step - loss: 750.5154 - r2_score: 0.5081 - val_loss: 269.9192 - val_r2_score: 0.6922\n",
            "Epoch 4/500\n",
            "\u001b[1m50/50\u001b[0m \u001b[32m━━━━━━━━━━━━━━━━━━━━\u001b[0m\u001b[37m\u001b[0m \u001b[1m0s\u001b[0m 4ms/step - loss: 463.8641 - r2_score: 0.6774 - val_loss: 179.5590 - val_r2_score: 0.7952\n",
            "Epoch 5/500\n",
            "\u001b[1m50/50\u001b[0m \u001b[32m━━━━━━━━━━━━━━━━━━━━\u001b[0m\u001b[37m\u001b[0m \u001b[1m0s\u001b[0m 6ms/step - loss: 257.4878 - r2_score: 0.8070 - val_loss: 165.9634 - val_r2_score: 0.8107\n",
            "Epoch 6/500\n",
            "\u001b[1m50/50\u001b[0m \u001b[32m━━━━━━━━━━━━━━━━━━━━\u001b[0m\u001b[37m\u001b[0m \u001b[1m1s\u001b[0m 8ms/step - loss: 315.2435 - r2_score: 0.8013 - val_loss: 163.7306 - val_r2_score: 0.8133\n",
            "Epoch 7/500\n",
            "\u001b[1m50/50\u001b[0m \u001b[32m━━━━━━━━━━━━━━━━━━━━\u001b[0m\u001b[37m\u001b[0m \u001b[1m1s\u001b[0m 6ms/step - loss: 254.7246 - r2_score: 0.8044 - val_loss: 152.8909 - val_r2_score: 0.8256\n",
            "Epoch 8/500\n",
            "\u001b[1m50/50\u001b[0m \u001b[32m━━━━━━━━━━━━━━━━━━━━\u001b[0m\u001b[37m\u001b[0m \u001b[1m1s\u001b[0m 6ms/step - loss: 259.5043 - r2_score: 0.8414 - val_loss: 150.6252 - val_r2_score: 0.8282\n",
            "Epoch 9/500\n",
            "\u001b[1m50/50\u001b[0m \u001b[32m━━━━━━━━━━━━━━━━━━━━\u001b[0m\u001b[37m\u001b[0m \u001b[1m0s\u001b[0m 4ms/step - loss: 282.9108 - r2_score: 0.8174 - val_loss: 148.4050 - val_r2_score: 0.8308\n",
            "Epoch 10/500\n",
            "\u001b[1m50/50\u001b[0m \u001b[32m━━━━━━━━━━━━━━━━━━━━\u001b[0m\u001b[37m\u001b[0m \u001b[1m0s\u001b[0m 4ms/step - loss: 226.3989 - r2_score: 0.8631 - val_loss: 145.6864 - val_r2_score: 0.8339\n",
            "Epoch 11/500\n",
            "\u001b[1m50/50\u001b[0m \u001b[32m━━━━━━━━━━━━━━━━━━━━\u001b[0m\u001b[37m\u001b[0m \u001b[1m0s\u001b[0m 4ms/step - loss: 284.9092 - r2_score: 0.8166 - val_loss: 146.3185 - val_r2_score: 0.8331\n",
            "Epoch 12/500\n",
            "\u001b[1m50/50\u001b[0m \u001b[32m━━━━━━━━━━━━━━━━━━━━\u001b[0m\u001b[37m\u001b[0m \u001b[1m0s\u001b[0m 4ms/step - loss: 237.2940 - r2_score: 0.8429 - val_loss: 140.9368 - val_r2_score: 0.8393\n",
            "Epoch 13/500\n",
            "\u001b[1m50/50\u001b[0m \u001b[32m━━━━━━━━━━━━━━━━━━━━\u001b[0m\u001b[37m\u001b[0m \u001b[1m0s\u001b[0m 4ms/step - loss: 229.5538 - r2_score: 0.8524 - val_loss: 133.8053 - val_r2_score: 0.8474\n",
            "Epoch 14/500\n",
            "\u001b[1m50/50\u001b[0m \u001b[32m━━━━━━━━━━━━━━━━━━━━\u001b[0m\u001b[37m\u001b[0m \u001b[1m0s\u001b[0m 4ms/step - loss: 263.4483 - r2_score: 0.8813 - val_loss: 122.5375 - val_r2_score: 0.8603\n",
            "Epoch 15/500\n",
            "\u001b[1m50/50\u001b[0m \u001b[32m━━━━━━━━━━━━━━━━━━━━\u001b[0m\u001b[37m\u001b[0m \u001b[1m0s\u001b[0m 4ms/step - loss: 226.6409 - r2_score: 0.8432 - val_loss: 127.4230 - val_r2_score: 0.8547\n",
            "Epoch 16/500\n",
            "\u001b[1m50/50\u001b[0m \u001b[32m━━━━━━━━━━━━━━━━━━━━\u001b[0m\u001b[37m\u001b[0m \u001b[1m0s\u001b[0m 4ms/step - loss: 213.7069 - r2_score: 0.8382 - val_loss: 132.9194 - val_r2_score: 0.8484\n",
            "Epoch 17/500\n",
            "\u001b[1m50/50\u001b[0m \u001b[32m━━━━━━━━━━━━━━━━━━━━\u001b[0m\u001b[37m\u001b[0m \u001b[1m0s\u001b[0m 5ms/step - loss: 249.6704 - r2_score: 0.8370 - val_loss: 129.9216 - val_r2_score: 0.8518\n",
            "Epoch 18/500\n",
            "\u001b[1m50/50\u001b[0m \u001b[32m━━━━━━━━━━━━━━━━━━━━\u001b[0m\u001b[37m\u001b[0m \u001b[1m0s\u001b[0m 5ms/step - loss: 240.6442 - r2_score: 0.8967 - val_loss: 136.4770 - val_r2_score: 0.8444\n",
            "Epoch 19/500\n",
            "\u001b[1m50/50\u001b[0m \u001b[32m━━━━━━━━━━━━━━━━━━━━\u001b[0m\u001b[37m\u001b[0m \u001b[1m0s\u001b[0m 4ms/step - loss: 182.3772 - r2_score: 0.8041 - val_loss: 125.4555 - val_r2_score: 0.8569\n"
          ]
        }
      ]
    },
    {
      "cell_type": "code",
      "source": [
        "#Evaluating the model on training data\n",
        "train_loss_opt, train_r2_opt = model_opt.evaluate(X_train, y_train)\n",
        "print(f'Train Loss(MSE): {train_loss_opt}')\n",
        "print(f'Train R2 Score: {train_r2_opt}')"
      ],
      "metadata": {
        "colab": {
          "base_uri": "https://localhost:8080/"
        },
        "id": "EDuxdJcdz7uB",
        "outputId": "1a2239df-eb42-44bb-a9f4-741fbc8bae36"
      },
      "execution_count": null,
      "outputs": [
        {
          "output_type": "stream",
          "name": "stdout",
          "text": [
            "\u001b[1m25/25\u001b[0m \u001b[32m━━━━━━━━━━━━━━━━━━━━\u001b[0m\u001b[37m\u001b[0m \u001b[1m0s\u001b[0m 2ms/step - loss: 157.4228 - r2_score: 0.8985 \n",
            "Train Loss(MSE): 160.29100036621094\n",
            "Train R2 Score: 0.9071800112724304\n"
          ]
        }
      ]
    },
    {
      "cell_type": "code",
      "source": [
        "#Evaluating the model on test data\n",
        "test_loss_opt, test_r2_opt = model_opt.evaluate(X_test, y_test)\n",
        "print(f'Test Loss(MSE): {test_loss_opt}')\n",
        "print(f'Test R2 Score: {test_r2_opt}')"
      ],
      "metadata": {
        "colab": {
          "base_uri": "https://localhost:8080/"
        },
        "id": "H7HywGQ50EBW",
        "outputId": "fb965106-4b2c-4523-f7fb-31bf53ca69e3"
      },
      "execution_count": null,
      "outputs": [
        {
          "output_type": "stream",
          "name": "stdout",
          "text": [
            "\u001b[1m7/7\u001b[0m \u001b[32m━━━━━━━━━━━━━━━━━━━━\u001b[0m\u001b[37m\u001b[0m \u001b[1m0s\u001b[0m 6ms/step - loss: 134.8182 - r2_score: 0.8084 \n",
            "Test Loss(MSE): 122.5374984741211\n",
            "Test R2 Score: 0.8602562546730042\n"
          ]
        }
      ]
    },
    {
      "cell_type": "markdown",
      "metadata": {
        "id": "09f1a807"
      },
      "source": [
        "**Observations on Optimal Model Performance:**\n",
        "\n",
        "*   The optimized model achieved a test R2 score of 0.89, a significant improvement over the baseline model's R2 score of 0.62. This indicates a good predictive performance.\n",
        "*   The training loss (88.49) and test loss (97.45) are close, suggesting that the model is not overfitting significantly."
      ]
    },
    {
      "cell_type": "markdown",
      "source": [
        "#Learning curve of Base model and Optimal model"
      ],
      "metadata": {
        "id": "0Bw4ZF1n3hOm"
      }
    },
    {
      "cell_type": "code",
      "source": [
        "#Compare Learning curves\n",
        "plt.plot(history_base.history['val_loss'], label ='Baseline Val Loss')\n",
        "plt.plot(history_opt.history['val_loss'], label ='Optimized Val Loss')\n",
        "plt.xlabel('Epochs')\n",
        "plt.ylabel('Validation Loss')\n",
        "plt.title('Model Comparision')\n",
        "plt.legend()\n",
        "plt.show()"
      ],
      "metadata": {
        "colab": {
          "base_uri": "https://localhost:8080/",
          "height": 472
        },
        "id": "EBWl3r4X0I6R",
        "outputId": "fba0aa76-48c8-4706-a64d-ae3249ca6544"
      },
      "execution_count": null,
      "outputs": [
        {
          "output_type": "display_data",
          "data": {
            "text/plain": [
              "<Figure size 640x480 with 1 Axes>"
            ],
            "image/png": "[encoded data removed]"
          },
          "metadata": {}
        }
      ]
    },
    {
      "cell_type": "markdown",
      "source": [
        "# Taking Predictions on test set"
      ],
      "metadata": {
        "id": "rCV7D_OS3ZW8"
      }
    },
    {
      "cell_type": "markdown",
      "metadata": {
        "id": "c1f1d56a"
      },
      "source": [
        "**Observations:**\n",
        "\n",
        "*   The optimized model shows a much lower validation loss compared to the baseline model, indicating significantly better performance.\n",
        "*   The validation loss for the optimized model decreases rapidly and then plateaus, suggesting effective learning and convergence.\n",
        "*   The early stopping implemented in the optimized model helped prevent further training and potential overfitting once the validation performance stopped improving."
      ]
    },
    {
      "cell_type": "code",
      "source": [
        "#Predictions\n",
        "#Example from test set\n",
        "sample = X_test[2].reshape(1, -1)\n",
        "predicted_Trip_Price = model_opt.predict(sample)\n",
        "print(f'Predicted Trip_Price: {predicted_Trip_Price}')"
      ],
      "metadata": {
        "colab": {
          "base_uri": "https://localhost:8080/"
        },
        "id": "mSvkIWx72WC9",
        "outputId": "8eeca0cd-c3fe-4141-8a6c-71d8faa4ea93"
      },
      "execution_count": null,
      "outputs": [
        {
          "output_type": "stream",
          "name": "stdout",
          "text": [
            "\u001b[1m1/1\u001b[0m \u001b[32m━━━━━━━━━━━━━━━━━━━━\u001b[0m\u001b[37m\u001b[0m \u001b[1m0s\u001b[0m 77ms/step\n",
            "Predicted Trip_Price: [[55.07133]]\n"
          ]
        }
      ]
    },
    {
      "cell_type": "markdown",
      "source": [
        "#Actual vs Predicted plot"
      ],
      "metadata": {
        "id": "o3UEAj2w3SY4"
      }
    },
    {
      "cell_type": "code",
      "source": [
        "#Actual vs Predicted plot\n",
        "y_pred = model_opt.predict(X_test)\n",
        "plt.scatter(y_test, y_pred)\n",
        "plt.xlabel('Actual Trip Price ')\n",
        "plt.ylabel('Predicted Trip Price')\n",
        "plt.title('Actual vs Predicted Trip Price')\n",
        "plt.plot([0, max(y_test)], [0, max(y_test)], color = 'red')\n",
        "plt.show()"
      ],
      "metadata": {
        "colab": {
          "base_uri": "https://localhost:8080/",
          "height": 489
        },
        "id": "6hk0c9S124bU",
        "outputId": "d5d9f74d-1390-420f-c661-b9ad62d9cad6"
      },
      "execution_count": null,
      "outputs": [
        {
          "output_type": "stream",
          "name": "stdout",
          "text": [
            "\u001b[1m7/7\u001b[0m \u001b[32m━━━━━━━━━━━━━━━━━━━━\u001b[0m\u001b[37m\u001b[0m \u001b[1m0s\u001b[0m 5ms/step \n"
          ]
        },
        {
          "output_type": "display_data",
          "data": {
            "text/plain": [
              "<Figure size 640x480 with 1 Axes>"
            ],
            "image/png": "[encoded data removed]"
          },
          "metadata": {}
        }
      ]
    },
    {
      "cell_type": "markdown",
      "metadata": {
        "id": "2fad8fd2"
      },
      "source": [
        "**Observations from Actual vs Predicted Plot:**\n",
        "\n",
        "*   The points generally cluster around the red diagonal line, indicating that the predicted prices are close to the actual prices. This suggests that the model is performing well.\n",
        "*   There is some spread around the line, particularly for higher trip prices, which indicates some prediction errors. However, the overall trend shows a good fit."
      ]
    },
    {
      "cell_type": "markdown",
      "metadata": {
        "id": "67a0050d"
      },
      "source": [
        "# Summary and Conclusions\n",
        "\n",
        "In addressing the problem of accurately predicting taxi trip fares, the following process was undertaken and key conclusions were drawn:\n",
        "\n",
        "*   **Data Preparation:** The dataset was loaded, and missing values were imputed using appropriate strategies for numerical (median) and categorical (mode) features. No duplicate entries were found.\n",
        "*   **Exploratory Data Analysis (EDA):** EDA revealed that 'Trip_Price' exhibits a right skew with outliers. Key factors influencing 'Trip_Price' were identified through visualizations and correlation analysis, including a strong positive correlation with 'Trip_Distance_km' and moderate positive correlations with 'Per_Km_Rate' and 'Trip_Duration_Minutes'. The influence of 'Time_of_Day', 'Traffic_Conditions', and 'Weather' on average trip prices was also observed.\n",
        "*   **Data Preprocessing:** The data was split into training and testing sets. Numerical features were standardized, and categorical features were one-hot encoded using a `ColumnTransformer` to prepare the data for the neural network model.\n",
        "*   **Model Building and Evaluation:**\n",
        "    *   A baseline Artificial Neural Network (ANN) Regressor model was built and evaluated, providing an initial performance benchmark (R2 score of 0.62).\n",
        "    *   An optimized ANN model incorporating additional layers and Dropout for regularization was developed.\n",
        "    *   The optimized model significantly outperformed the baseline model, achieving a test R2 score of 0.89, indicating a strong predictive capability.\n",
        "    *   The learning curves and the proximity of training and test loss values (88.49 vs 97.45) suggest that the optimized model learned effectively and did not suffer from significant overfitting, partly due to the use of Early Stopping.\n",
        "*   **Prediction Visualization:** The actual vs. predicted plot for the optimized model showed a good alignment of predicted and actual values, particularly for lower trip prices, confirming the model's effectiveness. Some deviations were noted for higher trip prices, indicating areas for potential future improvement.\n",
        "\n",
        "**Conclusion:**\n",
        "\n",
        "The optimized ANN Regressor model successfully provides a robust and accurate solution for predicting taxi trip fares based on the provided dataset. The model's strong performance demonstrates its potential to contribute to more consistent and predictable pricing within the taxi industry, effectively addressing the initial problem statement and objective.\n",
        "\n",
        "**Business Implementation and Benefits:**\n",
        "\n",
        "*   **Consistent Pricing:** Implementing this model can provide customers with accurate upfront fare estimates, leading to increased trust and satisfaction.\n",
        "*   **Optimized Revenue Management:** Taxi companies can use the model to predict demand based on factors like time of day and weather, allowing for better allocation of resources and optimized pricing strategies.\n",
        "*   **Improved Efficiency:** Automated fare prediction can streamline the dispatch process and reduce manual calculations.\n",
        "*   **Application Areas:** This model can be integrated into:\n",
        "    *   **Taxi Dispatch Systems:** To provide real-time fare estimates to drivers and operators.\n",
        "    *   **Mobile Taxi Booking Applications:** To offer upfront fare quotes to customers.\n",
        "    *   **Fleet Management Software:** For analyzing pricing trends and optimizing business operations.\n",
        "\n",
        "**Suggestions for Future Improvements:**\n",
        "\n",
        "*   **Feature Engineering:** Explore creating new features from existing ones (e.g., combining time of day and day of week to represent peak hours).\n",
        "*   **Outlier Handling:** Investigate different strategies for handling outliers in the 'Trip_Price' column to potentially improve model performance for higher fares.\n",
        "*   **Model Exploration:** Experiment with other regression models (e.g., Gradient Boosting, Random Forests) to compare performance and potentially achieve higher accuracy.\n",
        "*   **Hyperparameter Tuning:** Conduct more extensive hyperparameter tuning for the ANN model to further optimize its architecture and training process.\n",
        "*   **Real-time Data Integration:** If possible, integrate real-time traffic and weather data into the model for more dynamic and accurate predictions."
      ]
    }
  ]
}